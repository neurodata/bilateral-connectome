{
 "cells": [
  {
   "cell_type": "markdown",
   "id": "c3e45e2d",
   "metadata": {},
   "source": [
    "# Larval *Drosophila melanogaster* brain connectome\n",
    "\n",
    "Recently, authors mapped a connectome of a *Drosophila melanogaster* larva. This\n",
    "synaptic wiring diagram is comprised of 3,013 neurons and over 544,000\n",
    "synapses. Importantly, this work yielded a complete reconstruction of both the left\n",
    "and right hemispheres of the brain. We can represent this data as a network, with\n",
    "nodes representing neurons and\n",
    "edges representing some number of synapses between them.\n",
    "Since there are many modeling choices to make even when deciding how to take a raw\n",
    "connectome and generate a network representation from it, we describe some of these\n",
    "choices below."
   ]
  },
  {
   "cell_type": "markdown",
   "id": "50f1664c",
   "metadata": {
    "lines_to_next_cell": 0
   },
   "source": [
    "## Unmatched data\n",
    "First we consider a left/right hemisphere dataset which does not require any\n",
    "neuron-to-neuron correspondence between the two hemispheres.\n",
    "\n",
    "We remove all neurons who do not have at least 3 inputs and at least 3 outputs in the\n",
    "brain network - these are mostly \"young\" neurons. We then take the largest connected\n",
    "component after this removal.\n",
    "\n",
    "Then, for the networks we are going to compare, we select only the left-to-left\n",
    "(ipsilateral) induced subgraph, and likewise for the right-to-right. Note that there\n",
    "are conceivable ways to define a notion of bilateral symmetry which does include the\n",
    "contralateral connections as well, but we do not consider that here.\n",
    "\n",
    "For the networks themselves, we chose to operate on networks which are:\n",
    "- **Unweighted**: we do not consider the number of synapses between two neurons in the\n",
    "  current analysis. For the current network of\n",
    "  interest, four edge types are available: axo-axonic, axo-dendritic,\n",
    "  dendro-dendritic, and dendro-axonic. We make no distinction between these four edges\n",
    "  types. For now, we consider there to be an edge if there is at least one\n",
    "  synapse between any two neurons (of any edge type).  One could consider notions of\n",
    "  bilateral symmetry\n",
    "  for a weighted network, and even for the unweighted case, one could consider varying\n",
    "  thresholds of the network based on varying edge weights (which have often been\n",
    "  employed in connectomics studies). For now, we focus on the unweighted case purely\n",
    "  for simplicity and the availability of more two-sample tests for unweighted\n",
    "  networks,\n",
    "  though the weighted case or choice of threshold are also of great interest.\n",
    "- **Directed**: we allow for a distinction between edges which go from neuron $i$ to\n",
    "  neuron $j$ as opposed to from $j$ to $i$.\n",
    "- **Loopless**: we remove any edges which go from neuron $i$ to neuron $i$."
   ]
  },
  {
   "cell_type": "code",
   "execution_count": 1,
   "id": "b88a034f",
   "metadata": {
    "execution": {
     "iopub.execute_input": "2022-03-10T15:01:02.148228Z",
     "iopub.status.busy": "2022-03-10T15:01:02.146126Z",
     "iopub.status.idle": "2022-03-10T15:01:09.382208Z",
     "shell.execute_reply": "2022-03-10T15:01:09.382882Z"
    },
    "tags": [
     "hide-input"
    ]
   },
   "outputs": [
    {
     "name": "stdout",
     "output_type": "stream",
     "text": [
      "Using data from 2021-05-24-v2\n"
     ]
    }
   ],
   "source": [
    "from pkg.utils import set_warnings\n",
    "\n",
    "set_warnings()\n",
    "\n",
    "import datetime\n",
    "import os\n",
    "import time\n",
    "from pathlib import Path\n",
    "\n",
    "import networkx as nx\n",
    "import numpy as np\n",
    "import pandas as pd\n",
    "from graspologic.utils import binarize, remove_loops\n",
    "from myst_nb import glue\n",
    "from pkg.data import DATA_VERSION, load_maggot_graph, select_nice_nodes\n",
    "\n",
    "t0 = time.time()\n",
    "\n",
    "RESAVE = False\n",
    "\n",
    "print(f\"Using data from {DATA_VERSION}\")\n",
    "os.chdir(\"/Users/bpedigo/JHU_code/bilateral\")  # TODO fix, make this less fragile\n",
    "output_dir = os.path.join(os.getcwd(), \"bilateral-connectome/data/processed\")\n",
    "output_dir = Path(output_dir)"
   ]
  },
  {
   "cell_type": "code",
   "execution_count": 2,
   "id": "a3098d8f",
   "metadata": {
    "execution": {
     "iopub.execute_input": "2022-03-10T15:01:09.391373Z",
     "iopub.status.busy": "2022-03-10T15:01:09.390693Z",
     "iopub.status.idle": "2022-03-10T15:01:46.496211Z",
     "shell.execute_reply": "2022-03-10T15:01:46.496732Z"
    },
    "tags": [
     "hide-input"
    ]
   },
   "outputs": [],
   "source": [
    "mg = load_maggot_graph()\n",
    "mg = select_nice_nodes(mg)\n",
    "left_mg, right_mg = mg.bisect(lcc=True)\n",
    "left_nodes = left_mg.nodes\n",
    "right_nodes = right_mg.nodes\n",
    "\n",
    "left_adj = left_mg.sum.adj\n",
    "right_adj = right_mg.sum.adj\n",
    "\n",
    "left_adj = binarize(left_adj)\n",
    "right_adj = binarize(right_adj)"
   ]
  },
  {
   "cell_type": "code",
   "execution_count": 3,
   "id": "59ba4261",
   "metadata": {
    "execution": {
     "iopub.execute_input": "2022-03-10T15:01:46.501692Z",
     "iopub.status.busy": "2022-03-10T15:01:46.501054Z",
     "iopub.status.idle": "2022-03-10T15:01:46.558898Z",
     "shell.execute_reply": "2022-03-10T15:01:46.559304Z"
    },
    "tags": [
     "hide-input"
    ]
   },
   "outputs": [
    {
     "data": {
      "application/papermill.record/text/plain": "0.17716402829235434"
     },
     "metadata": {
      "scrapbook": {
       "mime_prefix": "application/papermill.record/",
       "name": "p_loops"
      }
     },
     "output_type": "display_data"
    },
    {
     "data": {
      "application/papermill.record/text/plain": "0.006948389056947729"
     },
     "metadata": {
      "scrapbook": {
       "mime_prefix": "application/papermill.record/",
       "name": "p_loops_edges"
      }
     },
     "output_type": "display_data"
    }
   ],
   "source": [
    "left_n_loops = np.count_nonzero(np.diag(left_adj))\n",
    "right_n_loops = np.count_nonzero(np.diag(right_adj))\n",
    "left_n_edges = np.count_nonzero(left_adj)\n",
    "right_n_edges = np.count_nonzero(right_adj)\n",
    "p_loops = (left_n_loops + right_n_loops) / (len(left_adj) + len(right_adj))\n",
    "p_loop_edges = (left_n_loops + right_n_loops) / (left_n_edges + right_n_edges)\n",
    "glue(\"p_loops\", p_loops, display=False)\n",
    "glue(\"p_loops_edges\", p_loop_edges, display=False)"
   ]
  },
  {
   "cell_type": "code",
   "execution_count": 4,
   "id": "9317c699",
   "metadata": {
    "execution": {
     "iopub.execute_input": "2022-03-10T15:01:46.563499Z",
     "iopub.status.busy": "2022-03-10T15:01:46.562845Z",
     "iopub.status.idle": "2022-03-10T15:01:46.644359Z",
     "shell.execute_reply": "2022-03-10T15:01:46.644878Z"
    },
    "lines_to_next_cell": 2,
    "tags": [
     "hide-input"
    ]
   },
   "outputs": [
    {
     "data": {
      "application/papermill.record/text/plain": "1485"
     },
     "metadata": {
      "scrapbook": {
       "mime_prefix": "application/papermill.record/",
       "name": "n_left_unmatched"
      }
     },
     "output_type": "display_data"
    },
    {
     "data": {
      "application/papermill.record/text/plain": "1484"
     },
     "metadata": {
      "scrapbook": {
       "mime_prefix": "application/papermill.record/",
       "name": "n_right_unmatched"
      }
     },
     "output_type": "display_data"
    }
   ],
   "source": [
    "left_adj = remove_loops(left_adj)\n",
    "right_adj = remove_loops(right_adj)\n",
    "\n",
    "n_left_unmatched = left_adj.shape[0]\n",
    "n_right_unmatched = right_adj.shape[0]\n",
    "glue(\"n_left_unmatched\", n_left_unmatched, display=False)\n",
    "glue(\"n_right_unmatched\", n_right_unmatched, display=False)"
   ]
  },
  {
   "cell_type": "markdown",
   "id": "cba3e094",
   "metadata": {},
   "source": [
    "After this data cleaning, we are left with {glue:text}`n_left_unmatched` neurons in\n",
    "the left\n",
    "hemisphere, and {glue:text}`n_right_unmatched` neurons in the right hemisphere."
   ]
  },
  {
   "cell_type": "code",
   "execution_count": 5,
   "id": "44fcaf10",
   "metadata": {
    "execution": {
     "iopub.execute_input": "2022-03-10T15:01:46.650280Z",
     "iopub.status.busy": "2022-03-10T15:01:46.649632Z",
     "iopub.status.idle": "2022-03-10T15:01:47.174518Z",
     "shell.execute_reply": "2022-03-10T15:01:47.174934Z"
    },
    "lines_to_next_cell": 2,
    "tags": [
     "hide-input"
    ]
   },
   "outputs": [],
   "source": [
    "left_adj = pd.DataFrame(data=left_adj, index=left_nodes.index, columns=left_nodes.index)\n",
    "left_g = nx.from_pandas_adjacency(left_adj, create_using=nx.DiGraph)\n",
    "\n",
    "if RESAVE:\n",
    "    nx.write_edgelist(\n",
    "        left_g, output_dir / \"unmatched_left_edgelist.csv\", delimiter=\",\", data=False\n",
    "    )\n",
    "    left_nodes.to_csv(output_dir / \"unmatched_left_nodes.csv\")\n",
    "\n",
    "\n",
    "right_adj = pd.DataFrame(\n",
    "    data=right_adj, index=right_nodes.index, columns=right_nodes.index\n",
    ")\n",
    "right_g = nx.from_pandas_adjacency(right_adj, create_using=nx.DiGraph)\n",
    "\n",
    "if RESAVE:\n",
    "    nx.write_edgelist(\n",
    "        right_g, output_dir / \"unmatched_right_edgelist.csv\", delimiter=\",\", data=False\n",
    "    )\n",
    "    right_nodes.to_csv(output_dir / \"unmatched_right_nodes.csv\")"
   ]
  },
  {
   "cell_type": "markdown",
   "id": "731be97d",
   "metadata": {
    "lines_to_next_cell": 0
   },
   "source": [
    "## Matched data\n",
    "Next, we consider a left/right hemisphere dataset where we require each neuron in the\n",
    "left hemisphere to be matched with a neuron in the right hemisphere. These pairings\n",
    "were determined by matching both connectivity and morphology in previous publications.\n",
    "\n",
    "Not all neurons in the original dataset were matched, so there will be slightly fewer\n",
    "neurons in this version of the data. Since we have this matched requirement, both\n",
    "networks will necessarily be of the same size.\n",
    "\n",
    "All other aspects of the networks (unweighted, directed, no loops) are the same as\n",
    "described above for the unmatched networks."
   ]
  },
  {
   "cell_type": "code",
   "execution_count": 6,
   "id": "fb3fdece",
   "metadata": {
    "execution": {
     "iopub.execute_input": "2022-03-10T15:01:47.180282Z",
     "iopub.status.busy": "2022-03-10T15:01:47.179585Z",
     "iopub.status.idle": "2022-03-10T15:02:29.813468Z",
     "shell.execute_reply": "2022-03-10T15:02:29.813939Z"
    },
    "tags": [
     "hide-input"
    ]
   },
   "outputs": [
    {
     "data": {
      "application/papermill.record/text/plain": "1229"
     },
     "metadata": {
      "scrapbook": {
       "mime_prefix": "application/papermill.record/",
       "name": "n_left_matched"
      }
     },
     "output_type": "display_data"
    },
    {
     "data": {
      "application/papermill.record/text/plain": "1229"
     },
     "metadata": {
      "scrapbook": {
       "mime_prefix": "application/papermill.record/",
       "name": "n_right_matched"
      }
     },
     "output_type": "display_data"
    }
   ],
   "source": [
    "mg = load_maggot_graph()\n",
    "mg = select_nice_nodes(mg)\n",
    "left_mg, right_mg = mg.bisect(lcc=True, paired=True)\n",
    "left_nodes = left_mg.nodes\n",
    "right_nodes = right_mg.nodes\n",
    "\n",
    "left_adj = left_mg.sum.adj\n",
    "right_adj = right_mg.sum.adj\n",
    "\n",
    "left_adj = binarize(left_adj)\n",
    "right_adj = binarize(right_adj)\n",
    "\n",
    "left_adj = remove_loops(left_adj)\n",
    "right_adj = remove_loops(right_adj)\n",
    "\n",
    "n_left_matched = left_adj.shape[0]\n",
    "n_right_matched = right_adj.shape[0]\n",
    "\n",
    "glue(\"n_left_matched\", n_left_matched, display=False)\n",
    "glue(\"n_right_matched\", n_right_matched, display=False)"
   ]
  },
  {
   "cell_type": "markdown",
   "id": "7c42a108",
   "metadata": {},
   "source": [
    "For the matched networks, we are left with {glue:text}`n_left_matched` neurons in the\n",
    "left\n",
    "hemisphere, and {glue:text}`n_right_matched` neurons in the right hemisphere."
   ]
  },
  {
   "cell_type": "code",
   "execution_count": 7,
   "id": "5640c30e",
   "metadata": {
    "execution": {
     "iopub.execute_input": "2022-03-10T15:02:29.819473Z",
     "iopub.status.busy": "2022-03-10T15:02:29.818834Z",
     "iopub.status.idle": "2022-03-10T15:02:30.239279Z",
     "shell.execute_reply": "2022-03-10T15:02:30.239737Z"
    },
    "tags": [
     "hide-input"
    ]
   },
   "outputs": [],
   "source": [
    "left_adj = pd.DataFrame(data=left_adj, index=left_nodes.index, columns=left_nodes.index)\n",
    "left_g = nx.from_pandas_adjacency(left_adj, create_using=nx.DiGraph)\n",
    "if RESAVE:\n",
    "    nx.write_edgelist(\n",
    "        left_g, output_dir / \"matched_left_edgelist.csv\", delimiter=\",\", data=False\n",
    "    )\n",
    "\n",
    "    left_nodes.to_csv(output_dir / \"matched_left_nodes.csv\")\n",
    "\n",
    "\n",
    "right_adj = pd.DataFrame(\n",
    "    data=right_adj, index=right_nodes.index, columns=right_nodes.index\n",
    ")\n",
    "right_g = nx.from_pandas_adjacency(right_adj, create_using=nx.DiGraph)\n",
    "\n",
    "if RESAVE:\n",
    "    nx.write_edgelist(\n",
    "        right_g, output_dir / \"matched_right_edgelist.csv\", delimiter=\",\", data=False\n",
    "    )\n",
    "    right_nodes.to_csv(output_dir / \"matched_right_nodes.csv\")"
   ]
  },
  {
   "cell_type": "code",
   "execution_count": 8,
   "id": "1665a18f",
   "metadata": {
    "execution": {
     "iopub.execute_input": "2022-03-10T15:02:30.243805Z",
     "iopub.status.busy": "2022-03-10T15:02:30.243171Z",
     "iopub.status.idle": "2022-03-10T15:02:30.285671Z",
     "shell.execute_reply": "2022-03-10T15:02:30.286095Z"
    },
    "tags": [
     "hide-input"
    ]
   },
   "outputs": [
    {
     "name": "stdout",
     "output_type": "stream",
     "text": [
      "Script took 0:01:20.933350\n",
      "Completed at 2022-03-10 10:02:30.282367\n"
     ]
    }
   ],
   "source": [
    "elapsed = time.time() - t0\n",
    "delta = datetime.timedelta(seconds=elapsed)\n",
    "print(f\"Script took {delta}\")\n",
    "print(f\"Completed at {datetime.datetime.now()}\")"
   ]
  }
 ],
 "metadata": {
  "jupytext": {
   "cell_metadata_filter": "-all",
   "main_language": "python",
   "notebook_metadata_filter": "-all"
  },
  "language_info": {
   "codemirror_mode": {
    "name": "ipython",
    "version": 3
   },
   "file_extension": ".py",
   "mimetype": "text/x-python",
   "name": "python",
   "nbconvert_exporter": "python",
   "pygments_lexer": "ipython3",
   "version": "3.9.7"
  }
 },
 "nbformat": 4,
 "nbformat_minor": 5
}
