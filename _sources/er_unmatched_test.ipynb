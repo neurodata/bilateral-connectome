{
 "cells": [
  {
   "cell_type": "markdown",
   "id": "9a93edd2",
   "metadata": {},
   "source": [
    "# A density-based test\n",
    "Here, we compare the two unmatched networks by treating each as an Erdos-Renyi network\n",
    "and simply compare their estimated densities."
   ]
  },
  {
   "cell_type": "markdown",
   "id": "01626df1",
   "metadata": {},
   "source": [
    "## The Erdos-Renyi (ER) model\n",
    "The [**Erdos-Renyi (ER) model**\n",
    "](https://en.wikipedia.org/wiki/Erd%C5%91s%E2%80%93R%C3%A9nyi_model)\n",
    "is one of the simplest network models. This model treats\n",
    "the probability of each potential edge in the network occuring to be the same. In\n",
    "other words, all edges between any two nodes are equally likely.\n",
    "\n",
    "```{admonition} Math\n",
    "Let $n$ be the number of nodes. We say that for all $(i, j), i \\neq j$, with $i$ and\n",
    "$j$ both running\n",
    "from $1 ... n$, the probability of the edge $(i, j)$ occuring is:\n",
    "\n",
    "$$ P[A_{ij} = 1] = p_{ij} = p $$\n",
    "\n",
    "Where $p$ is the the global connection probability.\n",
    "\n",
    "Each element of the adjacency matrix $A$ is then sampled independently according to a\n",
    "[Bernoulli distribution](https://en.wikipedia.org/wiki/Bernoulli_distribution):\n",
    "\n",
    "$$ A_{ij} \\sim Bernoulli(p) $$\n",
    "\n",
    "For a network modeled as described above, we say it is distributed\n",
    "\n",
    "$$ A \\sim ER(n, p) $$\n",
    "\n",
    "```\n",
    "\n",
    "Thus, for this model, the only parameter of interest is the global connection\n",
    "probability, $p$. This is sometimes also referred to as the **network density**."
   ]
  },
  {
   "cell_type": "markdown",
   "id": "30eb640b",
   "metadata": {},
   "source": [
    "## Testing under the ER model\n",
    "In order to compare two networks $A^{(L)}$ and $A^{(R)}$ under this model, we\n",
    "simply need to compute these network densities ($p^{(L)}$ and $p^{(R)}$), and then\n",
    "run a statistical test to see if these densities are significantly different.\n",
    "\n",
    "```{admonition} Math\n",
    "Under this\n",
    "model, the total number of edges $m$ comes from a $Binomial(n(n-1), p)$ distribution,\n",
    "where $n$ is the number of nodes. This is because the number of edges is the sum of\n",
    "independent Bernoulli trials with the same probability. If $m^{(L)}$ is the number of\n",
    "edges on the left\n",
    "hemisphere, and $m^{(R)}$ is the number of edges on the right, then we have:\n",
    "\n",
    "$$m^{(L)} \\sim Binomial(n^{(L)}(n^{(L)} - 1), p^{(L)})$$\n",
    "\n",
    "and independently,\n",
    "\n",
    "$$m^{(R)} \\sim Binomial(n^{(R)}(n^{(R)} - 1), p^{(R)})$$\n",
    "\n",
    "To compare the two networks, we are just interested in a comparison of $p^{(L)}$ vs.\n",
    "$p^{(R)}$. Formally, we are testing:\n",
    "\n",
    "$$H_0: p^{(L)} = p^{(R)}, \\quad H_a: p^{(L)} \\neq p^{(R)}$$\n",
    "\n",
    "Fortunately, the problem of testing for equal proportions is well studied.\n",
    "In our case, we will use Fisher's Exact test to run this test for the null and\n",
    "alternative hypotheses above.\n",
    "```"
   ]
  },
  {
   "cell_type": "code",
   "execution_count": 1,
   "id": "0e2c4eb1",
   "metadata": {
    "execution": {
     "iopub.execute_input": "2022-02-17T16:12:03.006706Z",
     "iopub.status.busy": "2022-02-17T16:12:03.006102Z",
     "iopub.status.idle": "2022-02-17T16:12:09.288091Z",
     "shell.execute_reply": "2022-02-17T16:12:09.288477Z"
    },
    "tags": [
     "hide-input"
    ]
   },
   "outputs": [],
   "source": [
    "import datetime\n",
    "import time\n",
    "\n",
    "import matplotlib.pyplot as plt\n",
    "from myst_nb import glue as default_glue\n",
    "from pkg.data import load_network_palette, load_node_palette, load_unmatched\n",
    "from pkg.io import savefig\n",
    "from pkg.plot import set_theme\n",
    "from pkg.stats import erdos_renyi_test\n",
    "from statsmodels.stats.proportion import proportion_confint\n",
    "\n",
    "DISPLAY_FIGS = False\n",
    "\n",
    "FILENAME = \"er_unmatched_test\"\n",
    "\n",
    "\n",
    "def gluefig(name, fig, **kwargs):\n",
    "    savefig(name, foldername=FILENAME, **kwargs)\n",
    "\n",
    "    glue(name, fig, prefix=\"fig\")\n",
    "\n",
    "    if not DISPLAY_FIGS:\n",
    "        plt.close()\n",
    "\n",
    "\n",
    "def glue(name, var, prefix=None):\n",
    "    savename = f\"{FILENAME}-{name}\"\n",
    "    if prefix is not None:\n",
    "        savename = prefix + \":\" + savename\n",
    "    default_glue(savename, var, display=False)\n",
    "\n",
    "\n",
    "t0 = time.time()\n",
    "set_theme(font_scale=1.25)\n",
    "\n",
    "network_palette, NETWORK_KEY = load_network_palette()\n",
    "node_palette, NODE_KEY = load_node_palette()\n",
    "\n",
    "\n",
    "left_adj, left_nodes = load_unmatched(\"left\")\n",
    "right_adj, right_nodes = load_unmatched(\"right\")"
   ]
  },
  {
   "cell_type": "code",
   "execution_count": 2,
   "id": "f2f99b38",
   "metadata": {
    "execution": {
     "iopub.execute_input": "2022-02-17T16:12:09.295110Z",
     "iopub.status.busy": "2022-02-17T16:12:09.294509Z",
     "iopub.status.idle": "2022-02-17T16:12:09.508632Z",
     "shell.execute_reply": "2022-02-17T16:12:09.509042Z"
    },
    "tags": [
     "hide-input"
    ]
   },
   "outputs": [
    {
     "data": {
      "application/papermill.record/text/plain": "3.0823870364699063e-23"
     },
     "metadata": {
      "scrapbook": {
       "mime_prefix": "application/papermill.record/",
       "name": "er_unmatched_test-pvalue"
      }
     },
     "output_type": "display_data"
    }
   ],
   "source": [
    "stat, pvalue, misc = erdos_renyi_test(left_adj, right_adj)\n",
    "glue(\"pvalue\", pvalue)"
   ]
  },
  {
   "cell_type": "code",
   "execution_count": 3,
   "id": "2633f99e",
   "metadata": {
    "execution": {
     "iopub.execute_input": "2022-02-17T16:12:09.513468Z",
     "iopub.status.busy": "2022-02-17T16:12:09.512817Z",
     "iopub.status.idle": "2022-02-17T16:12:09.559540Z",
     "shell.execute_reply": "2022-02-17T16:12:09.559952Z"
    },
    "tags": [
     "hide-input"
    ]
   },
   "outputs": [
    {
     "data": {
      "application/papermill.record/text/plain": "2203740"
     },
     "metadata": {
      "scrapbook": {
       "mime_prefix": "application/papermill.record/",
       "name": "er_unmatched_test-n_possible_left"
      }
     },
     "output_type": "display_data"
    },
    {
     "data": {
      "application/papermill.record/text/plain": "2200772"
     },
     "metadata": {
      "scrapbook": {
       "mime_prefix": "application/papermill.record/",
       "name": "er_unmatched_test-n_possible_right"
      }
     },
     "output_type": "display_data"
    },
    {
     "data": {
      "application/papermill.record/text/plain": "0.01645520796464193"
     },
     "metadata": {
      "scrapbook": {
       "mime_prefix": "application/papermill.record/",
       "name": "er_unmatched_test-density_left"
      }
     },
     "output_type": "display_data"
    },
    {
     "data": {
      "application/papermill.record/text/plain": "0.017681068279676405"
     },
     "metadata": {
      "scrapbook": {
       "mime_prefix": "application/papermill.record/",
       "name": "er_unmatched_test-density_right"
      }
     },
     "output_type": "display_data"
    }
   ],
   "source": [
    "n_possible_left = misc[\"possible1\"]\n",
    "n_possible_right = misc[\"possible2\"]\n",
    "glue(\"n_possible_left\", n_possible_left)\n",
    "glue(\"n_possible_right\", n_possible_right)\n",
    "\n",
    "density_left = misc[\"probability1\"]\n",
    "density_right = misc[\"probability2\"]\n",
    "glue(\"density_left\", density_left)\n",
    "glue(\"density_right\", density_right)\n",
    "\n",
    "n_edges_left = misc[\"observed1\"]\n",
    "n_edges_right = misc[\"observed2\"]"
   ]
  },
  {
   "cell_type": "code",
   "execution_count": 4,
   "id": "b29fb2fa",
   "metadata": {
    "execution": {
     "iopub.execute_input": "2022-02-17T16:12:09.565481Z",
     "iopub.status.busy": "2022-02-17T16:12:09.564852Z",
     "iopub.status.idle": "2022-02-17T16:12:10.798492Z",
     "shell.execute_reply": "2022-02-17T16:12:10.798933Z"
    },
    "lines_to_next_cell": 2,
    "tags": [
     "hide-input"
    ]
   },
   "outputs": [
    {
     "data": {
      "application/papermill.record/text/plain": "99.0"
     },
     "metadata": {
      "scrapbook": {
       "mime_prefix": "application/papermill.record/",
       "name": "er_unmatched_test-coverage_percentage"
      }
     },
     "output_type": "display_data"
    },
    {
     "data": {
      "application/papermill.record/image/png": "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\n",
      "application/papermill.record/text/plain": "<Figure size 432x432 with 1 Axes>"
     },
     "metadata": {
      "scrapbook": {
       "mime_prefix": "application/papermill.record/",
       "name": "fig:er_unmatched_test-er_density"
      }
     },
     "output_type": "display_data"
    }
   ],
   "source": [
    "fig, ax = plt.subplots(1, 1, figsize=(6, 6))\n",
    "\n",
    "ax.bar(0, density_left, color=network_palette[\"Left\"])\n",
    "ax.bar(1, density_right, color=network_palette[\"Right\"])\n",
    "\n",
    "coverage = 0.99\n",
    "coverage_percentage = coverage * 100\n",
    "glue(\"coverage_percentage\", coverage_percentage)\n",
    "\n",
    "left_lower, left_upper = proportion_confint(\n",
    "    n_edges_left, n_possible_left, alpha=1 - coverage, method=\"beta\"\n",
    ")\n",
    "right_lower, right_upper = proportion_confint(\n",
    "    n_edges_right, n_possible_right, alpha=1 - coverage, method=\"beta\"\n",
    ")\n",
    "\n",
    "ax.plot([0, 0], [left_lower, left_upper], color=\"black\", linewidth=4)\n",
    "ax.plot([1, 1], [right_lower, right_upper], color=\"black\", linewidth=4)\n",
    "\n",
    "ax.set(\n",
    "    xlabel=\"Hemisphere\",\n",
    "    xticks=[0, 1],\n",
    "    xticklabels=[\"Left\", \"Right\"],\n",
    "    ylabel=r\"Estimated density ($\\hat{p}$)\",\n",
    ")\n",
    "\n",
    "gluefig(\"er_density\", fig)"
   ]
  },
  {
   "cell_type": "markdown",
   "id": "71499dbb",
   "metadata": {
    "lines_to_next_cell": 0
   },
   "source": [
    "## Reject bilateral symmetry under the ER model"
   ]
  },
  {
   "cell_type": "markdown",
   "id": "e204868e",
   "metadata": {},
   "source": [
    "\n",
    "```{glue:figure} fig:er_unmatched_test-er_density\n",
    ":name: \"fig:er_unmatched_test-er_density\"\n",
    "\n",
    "Comparison of estimated densities for the left and right hemisphere networks. The\n",
    "estimated density (probability of any edge across the entire network), $\\hat{p}$, for\n",
    "the left\n",
    "hemisphere is ~{glue:text}`er_unmatched_test-density_left:0.3f`, while for the right\n",
    "it is\n",
    "~{glue:text}`er_unmatched_test-density_right:0.3f`. Black lines denote\n",
    "{glue:text}`er_unmatched_test-coverage_percentage`**%**\n",
    "confidence intervals for this estimated parameter $\\hat{p}$. The p-value for testing\n",
    "the null hypothesis that these densities are the same is\n",
    "{glue:text}`er_unmatched_test-pvalue:0.3g` (two\n",
    "sided Fisher's exact test).\n",
    "```"
   ]
  },
  {
   "cell_type": "markdown",
   "id": "267440f3",
   "metadata": {},
   "source": [
    "\n",
    "{numref}`Figure {number} <fig:er_unmatched_test-er_density>` shows the comparison of\n",
    "the network densities between the left and right hemisphere induced subgraphs. We see\n",
    "that the density on the left is ~{glue:text}`er_unmatched_test-density_left:0.3f`, and\n",
    "on the right it is ~{glue:text}`er_unmatched_test-density_right:0.3f`. To determine\n",
    "whether this is a difference likely to be observed by chance under the ER model,\n",
    "we ran a two-sided Fisher's exact test, which tests whether the success probabilities\n",
    "between two independent binomials are significantly different. This test yields a\n",
    "p-value of {glue:text}`er_unmatched_test-pvalue:0.3g`, suggesting that we have strong\n",
    "evidence to reject this version of our hypotheis of bilateral symmetry. We note that\n",
    "while the difference between estimated densities is not massive, this low p-value\n",
    "results from the large sample size for this comparison. We note that there are\n",
    "{glue:text}`er_unmatched_test-n_possible_left:,.0f` and\n",
    "{glue:text}`er_unmatched_test-n_possible_right:,.0f` potential edges on the left and\n",
    "right,\n",
    "respectively, making the sample size for this comparison quite large.\n",
    "\n",
    "To our knowledge, when neuroscientists have considered the question of bilateral\n",
    "symmetry, they have not meant such a simple comparison of proportions. In many ways,\n",
    "the ER model is too simple to be an interesting description of connectome structure.\n",
    "However, we note that *even the simplest network model* yields a significant\n",
    "difference between brain hemispheres for this organism. It is unclear whether this\n",
    "difference in densities is biological (e.g. a result of slightly differing rates of\n",
    "development for this individual), an artifact of how the data was collected (e.g.\n",
    "technological limitations causing slightly lower reconstruction rates on the left\n",
    "hemisphere), or something else entirely. Still, the ER test results also provide\n",
    "important considerations for other tests. Almost any network statistic (e.g.\n",
    "clustering coefficient, number of triangles, etc), as well as many of the model-based\n",
    "parameters we will consider in this paper, are strongly related to the network\n",
    "density. Thus, if the densities are different, it is likely that tests based on any\n",
    "of these other test statistics will also reject the null hypothesis. Thus, we will\n",
    "need ways of telling whether an observed difference for these other tests could be\n",
    "explained by this difference in density alone."
   ]
  },
  {
   "cell_type": "code",
   "execution_count": 5,
   "id": "e1b8cc61",
   "metadata": {
    "execution": {
     "iopub.execute_input": "2022-02-17T16:12:10.802839Z",
     "iopub.status.busy": "2022-02-17T16:12:10.802226Z",
     "iopub.status.idle": "2022-02-17T16:12:10.842981Z",
     "shell.execute_reply": "2022-02-17T16:12:10.843372Z"
    },
    "tags": [
     "hide-input"
    ]
   },
   "outputs": [],
   "source": [
    "elapsed = time.time() - t0\n",
    "delta = datetime.timedelta(seconds=elapsed)"
   ]
  }
 ],
 "metadata": {
  "jupytext": {
   "cell_metadata_filter": "-all",
   "main_language": "python",
   "notebook_metadata_filter": "-all"
  },
  "language_info": {
   "codemirror_mode": {
    "name": "ipython",
    "version": 3
   },
   "file_extension": ".py",
   "mimetype": "text/x-python",
   "name": "python",
   "nbconvert_exporter": "python",
   "pygments_lexer": "ipython3",
   "version": "3.9.7"
  }
 },
 "nbformat": 4,
 "nbformat_minor": 5
}
