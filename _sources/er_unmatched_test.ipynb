{
 "cells": [
  {
   "cell_type": "markdown",
   "id": "54c3c34b",
   "metadata": {},
   "source": [
    "# A density-based test\n",
    "Here, we compare the two unmatched networks by treating each as an Erdos-Renyi network\n",
    "and simply compare their estimated densities."
   ]
  },
  {
   "cell_type": "markdown",
   "id": "db3ba5e0",
   "metadata": {},
   "source": [
    "## The Erdos-Renyi (ER) model\n",
    "The [**Erdos-Renyi (ER) model**\n",
    "](https://en.wikipedia.org/wiki/Erd%C5%91s%E2%80%93R%C3%A9nyi_model)\n",
    "is one of the simplest network models. This model treats\n",
    "the probability of each potential edge in the network occuring to be the same. In\n",
    "other words, all edges between any two nodes are equally likely.\n",
    "\n",
    "```{admonition} Math\n",
    "Let $n$ be the number of nodes. We say that for all $(i, j), i \\neq j$, with $i$ and \n",
    "$j$ both running\n",
    "from $1 ... n$, the probability of the edge $(i, j)$ occuring is:\n",
    "\n",
    "$$ P[A_{ij} = 1] = p_{ij} = p $$\n",
    "\n",
    "Where $p$ is the the global connection probability.\n",
    "\n",
    "Each element of the adjacency matrix $A$ is then sampled independently according to a\n",
    "[Bernoulli distribution](https://en.wikipedia.org/wiki/Bernoulli_distribution):\n",
    "\n",
    "$$ A_{ij} \\sim Bernoulli(p) $$\n",
    "\n",
    "For a network modeled as described above, we say it is distributed \n",
    "\n",
    "$$ A \\sim ER(n, p) $$\n",
    "\n",
    "```\n",
    "\n",
    "Thus, for this model, the only parameter of interest is the global connection\n",
    "probability, $p$. This is sometimes also referred to as the **network density**."
   ]
  },
  {
   "cell_type": "markdown",
   "id": "57478e8b",
   "metadata": {},
   "source": [
    "## Testing under the ER model\n",
    "In order to compare two networks $A^{(L)}$ and $A^{(R)}$ under this model, we\n",
    "simply need to compute these network densities ($p^{(L)}$ and $p^{(R)}$), and then\n",
    "run a statistical test to see if these densities are significantly different.\n",
    "\n",
    "```{admonition} Math\n",
    "Under this\n",
    "model, the total number of edges $m$ comes from a $Binomial(n(n-1), p)$ distribution,\n",
    "where $n$ is the number of nodes. This is because the number of edges is the sum of\n",
    "independent Bernoulli trials with the same probability. If $m^{(L)}$ is the number of\n",
    "edges on the left\n",
    "hemisphere, and $m^{(R)}$ is the number of edges on the right, then we have:\n",
    "\n",
    "$$m^{(L)} \\sim Binomial(n^{(L)}(n^{(L)} - 1), p^{(L)})$$\n",
    "\n",
    "and independently,\n",
    "\n",
    "$$m^{(R)} \\sim Binomial(n^{(R)}(n^{(R)} - 1), p^{(R)})$$\n",
    "\n",
    "To compare the two networks, we are just interested in a comparison of $p^{(L)}$ vs.\n",
    "$p^{(R)}$. Formally, we are testing:\n",
    "\n",
    "$$H_0: p^{(L)} = p^{(R)}, \\quad H_a: p^{(L)} \\neq p^{(R)}$$\n",
    "\n",
    "Fortunately, the problem of testing for equal proportions is well studied.\n",
    "In our case, we will use Fisher's Exact test to run this test for the null and\n",
    "alternative hypotheses above.\n",
    "```"
   ]
  },
  {
   "cell_type": "code",
   "execution_count": 1,
   "id": "e59f41d9",
   "metadata": {
    "lines_to_next_cell": 2,
    "tags": [
     "hide-input"
    ]
   },
   "outputs": [],
   "source": [
    "\n",
    "from pkg.utils import set_warnings\n",
    "\n",
    "set_warnings()\n",
    "\n",
    "import datetime\n",
    "import time\n",
    "\n",
    "import matplotlib.pyplot as plt\n",
    "import numpy as np\n",
    "from myst_nb import glue as default_glue\n",
    "from pkg.data import load_network_palette, load_node_palette, load_unmatched\n",
    "from pkg.io import savefig\n",
    "from pkg.plot import set_theme\n",
    "from pkg.stats import erdos_renyi_test\n",
    "from scipy.stats import binom\n",
    "from statsmodels.stats.proportion import proportion_confint\n",
    "\n",
    "DISPLAY_FIGS = False\n",
    "\n",
    "FILENAME = \"er_unmatched_test\"\n",
    "\n",
    "\n",
    "def gluefig(name, fig, **kwargs):\n",
    "    savefig(name, foldername=FILENAME, **kwargs)\n",
    "\n",
    "    glue(name, fig, prefix=\"fig\")\n",
    "\n",
    "    if not DISPLAY_FIGS:\n",
    "        plt.close()\n",
    "\n",
    "\n",
    "def glue(name, var, prefix=None):\n",
    "    savename = f\"{FILENAME}-{name}\"\n",
    "    if prefix is not None:\n",
    "        savename = prefix + \":\" + savename\n",
    "    default_glue(savename, var, display=False)\n",
    "\n",
    "\n",
    "t0 = time.time()\n",
    "set_theme(font_scale=1.25)\n",
    "\n",
    "network_palette, NETWORK_KEY = load_network_palette()\n",
    "node_palette, NODE_KEY = load_node_palette()\n",
    "\n",
    "\n",
    "left_adj, left_nodes = load_unmatched(\"left\")\n",
    "right_adj, right_nodes = load_unmatched(\"right\")"
   ]
  },
  {
   "cell_type": "code",
   "execution_count": 2,
   "id": "dcd66363",
   "metadata": {
    "lines_to_next_cell": 2,
    "tags": [
     "hide-input"
    ]
   },
   "outputs": [
    {
     "data": {
      "application/papermill.record/text/plain": "2203740"
     },
     "metadata": {
      "scrapbook": {
       "mime_prefix": "application/papermill.record/",
       "name": "er_unmatched_test-n_possible_left"
      }
     },
     "output_type": "display_data"
    },
    {
     "data": {
      "application/papermill.record/text/plain": "2200772"
     },
     "metadata": {
      "scrapbook": {
       "mime_prefix": "application/papermill.record/",
       "name": "er_unmatched_test-n_possible_right"
      }
     },
     "output_type": "display_data"
    },
    {
     "data": {
      "application/papermill.record/text/plain": "0.01645520796464193"
     },
     "metadata": {
      "scrapbook": {
       "mime_prefix": "application/papermill.record/",
       "name": "er_unmatched_test-density_left"
      }
     },
     "output_type": "display_data"
    },
    {
     "data": {
      "application/papermill.record/text/plain": "0.017681068279676405"
     },
     "metadata": {
      "scrapbook": {
       "mime_prefix": "application/papermill.record/",
       "name": "er_unmatched_test-density_right"
      }
     },
     "output_type": "display_data"
    }
   ],
   "source": [
    "n_nodes_left = left_adj.shape[0]\n",
    "n_nodes_right = right_adj.shape[0]\n",
    "n_possible_left = n_nodes_left ** 2 - n_nodes_left\n",
    "n_possible_right = n_nodes_right ** 2 - n_nodes_right\n",
    "glue(\"n_possible_left\", n_possible_left)\n",
    "glue(\"n_possible_right\", n_possible_right)\n",
    "\n",
    "n_edges_left = np.count_nonzero(left_adj)\n",
    "n_edges_right = np.count_nonzero(right_adj)\n",
    "density_left = n_edges_left / n_possible_left\n",
    "density_right = n_edges_right / n_possible_right\n",
    "\n",
    "glue(\"density_left\", density_left)\n",
    "glue(\"density_right\", density_right)\n",
    "\n",
    "left_binom = binom(n_possible_left, density_left)\n",
    "right_binom = binom(n_possible_right, density_right)"
   ]
  },
  {
   "cell_type": "code",
   "execution_count": 3,
   "id": "d74a514b",
   "metadata": {
    "tags": [
     "hide-input"
    ]
   },
   "outputs": [
    {
     "data": {
      "application/papermill.record/text/plain": "99.0"
     },
     "metadata": {
      "scrapbook": {
       "mime_prefix": "application/papermill.record/",
       "name": "er_unmatched_test-coverage_percentage"
      }
     },
     "output_type": "display_data"
    },
    {
     "data": {
      "application/papermill.record/image/png": "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\n",
      "application/papermill.record/text/plain": "<Figure size 432x432 with 1 Axes>"
     },
     "metadata": {
      "scrapbook": {
       "mime_prefix": "application/papermill.record/",
       "name": "fig:er_unmatched_test-er_density"
      }
     },
     "output_type": "display_data"
    }
   ],
   "source": [
    "fig, ax = plt.subplots(1, 1, figsize=(6, 6))\n",
    "\n",
    "\n",
    "ax.bar(0, density_left, color=network_palette[\"Left\"])\n",
    "ax.bar(1, density_right, color=network_palette[\"Right\"])\n",
    "\n",
    "coverage = 0.99\n",
    "coverage_percentage = coverage * 100\n",
    "glue(\"coverage_percentage\", coverage_percentage)\n",
    "left_lower, left_upper = proportion_confint(\n",
    "    n_edges_left, n_possible_left, alpha=1 - coverage, method=\"beta\"\n",
    ")\n",
    "right_lower, right_upper = proportion_confint(\n",
    "    n_edges_right, n_possible_right, alpha=1 - coverage, method=\"beta\"\n",
    ")\n",
    "\n",
    "ax.plot([0, 0], [left_lower, left_upper], color=\"black\", linewidth=4)\n",
    "ax.plot([1, 1], [right_lower, right_upper], color=\"black\", linewidth=4)\n",
    "\n",
    "ax.set(\n",
    "    xlabel=\"Network\",\n",
    "    xticks=[0, 1],\n",
    "    xticklabels=[\"Left\", \"Right\"],\n",
    "    ylabel=r\"Estimated density ($\\hat{p}$)\",\n",
    ")\n",
    "\n",
    "gluefig(\"er_density\", fig)"
   ]
  },
  {
   "cell_type": "code",
   "execution_count": 4,
   "id": "4cb36f03",
   "metadata": {
    "tags": [
     "hide-input"
    ]
   },
   "outputs": [
    {
     "data": {
      "application/papermill.record/text/plain": "3.0823870364699146e-23"
     },
     "metadata": {
      "scrapbook": {
       "mime_prefix": "application/papermill.record/",
       "name": "er_unmatched_test-pvalue"
      }
     },
     "output_type": "display_data"
    }
   ],
   "source": [
    "stat, pvalue, _ = erdos_renyi_test(left_adj, right_adj)\n",
    "glue(\"pvalue\", pvalue)"
   ]
  },
  {
   "cell_type": "markdown",
   "id": "c83b55d3",
   "metadata": {
    "lines_to_next_cell": 0
   },
   "source": [
    "## Reject bilateral symmetry under the ER model"
   ]
  },
  {
   "cell_type": "markdown",
   "id": "e34c2d4a",
   "metadata": {},
   "source": [
    "\n",
    "```{glue:figure} fig:er_unmatched_test-er_density\n",
    ":name: \"fig:er_unmatched_test-er_density\"\n",
    "\n",
    "Comparison of estimated densities for the left and right hemisphere networks. The\n",
    "estimated density (probability of any edge across the entire network), $\\hat{p}$, for\n",
    "the left\n",
    "hemisphere is ~{glue:text}`er_unmatched_test-density_left:0.3f`, while for the right\n",
    "it is\n",
    "~{glue:text}`er_unmatched_test-density_right:0.3f`. Black lines denote\n",
    "{glue:text}`er_unmatched_test-coverage_percentage`**%**\n",
    "confidence intervals for this estimated parameter $\\hat{p}$. The p-value for testing\n",
    "the null hypothesis that these densities are the same is\n",
    "{glue:text}`er_unmatched_test-pvalue:0.3g` (two\n",
    "sided Fisher's exact test).\n",
    "```"
   ]
  },
  {
   "cell_type": "markdown",
   "id": "01e53cdb",
   "metadata": {},
   "source": [
    "\n",
    "{numref}`Figure {number} <fig:er_unmatched_test-er_density>` shows the comparison of\n",
    "the network densities between the left and right hemisphere induced subgraphs. We see\n",
    "that the density on the left is ~{glue:text}`er_unmatched_test-density_left:0.3f`, and\n",
    "on the right it is ~{glue:text}`er_unmatched_test-density_right:0.3f`. To determine\n",
    "whether this is a difference likely to be observed by chance under the ER model,\n",
    "we ran a two-sided Fisher's exact test, which tests whether the success probabilities\n",
    "between two independent binomials are significantly different. This test yields a\n",
    "p-value of {glue:text}`er_unmatched_test-pvalue:0.3g`, suggesting that we have strong\n",
    "evidence to reject this version of our hypotheis of bilateral symmetry. We note that\n",
    "while the difference between estimated densities is not massive, this low p-value\n",
    "results from the large sample size for this comparison. We note that there are\n",
    "{glue:text}`er_unmatched_test-n_possible_left:,.0f` and\n",
    "{glue:text}`er_unmatched_test-n_possible_right:,.0f` potential edges on the left and\n",
    "right,\n",
    "respectively, making the sample size for this comparison quite large.\n",
    "\n",
    "To our knowledge, when neuroscientists have considered the question of bilateral\n",
    "symmetry, they have not meant such a simple comparison of proportions. In many ways,\n",
    "the ER model is too simple to be an interesting description of connectome structure.\n",
    "However, we note that *even the simplest network model* yields a significant\n",
    "difference between brain hemispheres for this organism. It is unclear whether this\n",
    "difference in densities is biological (e.g. a result of slightly differing rates of\n",
    "development for this individual), an artifact of how the data was collected (e.g.\n",
    "technological limitations causing slightly lower reconstruction rates on the left\n",
    "hemisphere), or something else entirely. Still, the ER test results also provide\n",
    "important considerations for other tests. Almost any network statistic (e.g.\n",
    "clustering coefficient, number of triangles, etc), as well as many of the model-based\n",
    "parameters we will consider in this paper, are strongly related to the network\n",
    "density. Thus, if the densities are different, it is likely that tests based on any\n",
    "of these other test statistics will also reject the null hypothesis. Thus, we will\n",
    "need ways of telling whether an observed difference for these other tests could be\n",
    "explained by this difference in density alone."
   ]
  },
  {
   "cell_type": "code",
   "execution_count": 5,
   "id": "e8683304",
   "metadata": {
    "tags": [
     "hide-input"
    ]
   },
   "outputs": [],
   "source": [
    "elapsed = time.time() - t0\n",
    "delta = datetime.timedelta(seconds=elapsed)"
   ]
  }
 ],
 "metadata": {
  "jupytext": {
   "cell_metadata_filter": "-all",
   "main_language": "python",
   "notebook_metadata_filter": "-all"
  },
  "language_info": {
   "codemirror_mode": {
    "name": "ipython",
    "version": 3
   },
   "file_extension": ".py",
   "mimetype": "text/x-python",
   "name": "python",
   "nbconvert_exporter": "python",
   "pygments_lexer": "ipython3",
   "version": "3.9.7"
  }
 },
 "nbformat": 4,
 "nbformat_minor": 5
}
