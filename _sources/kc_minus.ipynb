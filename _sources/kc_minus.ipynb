{
 "cells": [
  {
   "cell_type": "code",
   "execution_count": 1,
   "id": "ccc8220e",
   "metadata": {
    "execution": {
     "iopub.execute_input": "2022-02-17T01:01:55.977805Z",
     "iopub.status.busy": "2022-02-17T01:01:55.977199Z",
     "iopub.status.idle": "2022-02-17T01:02:02.494023Z",
     "shell.execute_reply": "2022-02-17T01:02:02.494525Z"
    },
    "tags": [
     "hide-input"
    ]
   },
   "outputs": [],
   "source": [
    "import datetime\n",
    "import time\n",
    "\n",
    "import matplotlib.pyplot as plt\n",
    "import numpy as np\n",
    "import pandas as pd\n",
    "import seaborn as sns\n",
    "from giskard.plot import rotate_labels\n",
    "from graspologic.plot import networkplot\n",
    "from matplotlib.transforms import Bbox\n",
    "from myst_nb import glue as default_glue\n",
    "from pkg.data import load_network_palette, load_node_palette, load_unmatched\n",
    "from pkg.io import FIG_PATH, savefig\n",
    "from pkg.perturb import remove_edges\n",
    "from pkg.plot import bound_points, set_theme\n",
    "from pkg.stats import erdos_renyi_test, stochastic_block_test\n",
    "from seaborn.utils import relative_luminance\n",
    "\n",
    "\n",
    "DISPLAY_FIGS = True\n",
    "\n",
    "FILENAME = \"kc_minus\"\n",
    "\n",
    "\n",
    "def gluefig(name, fig, **kwargs):\n",
    "    savefig(name, foldername=FILENAME, **kwargs)\n",
    "\n",
    "    glue(name, fig, prefix=\"fig\")\n",
    "\n",
    "    if not DISPLAY_FIGS:\n",
    "        plt.close()\n",
    "\n",
    "\n",
    "def glue(name, var, prefix=None):\n",
    "    savename = f\"{FILENAME}-{name}\"\n",
    "    if prefix is not None:\n",
    "        savename = prefix + \":\" + savename\n",
    "    default_glue(savename, var, display=False)"
   ]
  },
  {
   "cell_type": "code",
   "execution_count": 2,
   "id": "188b7d93",
   "metadata": {
    "execution": {
     "iopub.execute_input": "2022-02-17T01:02:02.503128Z",
     "iopub.status.busy": "2022-02-17T01:02:02.502541Z",
     "iopub.status.idle": "2022-02-17T01:02:02.866437Z",
     "shell.execute_reply": "2022-02-17T01:02:02.866854Z"
    },
    "tags": [
     "hide-input"
    ]
   },
   "outputs": [],
   "source": [
    "t0 = time.time()\n",
    "set_theme()\n",
    "rng = np.random.default_rng(8888)\n",
    "\n",
    "network_palette, NETWORK_KEY = load_network_palette()\n",
    "node_palette, NODE_KEY = load_node_palette()\n",
    "neutral_color = sns.color_palette(\"Set2\")[2]\n",
    "\n",
    "GROUP_KEY = \"simple_group\"\n",
    "\n",
    "left_adj, left_nodes = load_unmatched(side=\"left\")\n",
    "right_adj, right_nodes = load_unmatched(side=\"right\")\n",
    "\n",
    "left_labels = left_nodes[GROUP_KEY].values\n",
    "right_labels = right_nodes[GROUP_KEY].values\n",
    "\n",
    "left_nodes[\"inds\"] = range(len(left_nodes))\n",
    "sub_left_nodes = left_nodes[left_nodes[GROUP_KEY] != \"KCs\"]\n",
    "sub_left_inds = sub_left_nodes[\"inds\"].values\n",
    "right_nodes[\"inds\"] = range(len(right_nodes))\n",
    "sub_right_nodes = right_nodes[right_nodes[GROUP_KEY] != \"KCs\"]\n",
    "sub_right_inds = sub_right_nodes[\"inds\"].values\n",
    "\n",
    "sub_left_adj = left_adj[np.ix_(sub_left_inds, sub_left_inds)]\n",
    "sub_right_adj = right_adj[np.ix_(sub_right_inds, sub_right_inds)]\n",
    "sub_left_labels = sub_left_nodes[GROUP_KEY]\n",
    "sub_right_labels = sub_right_nodes[GROUP_KEY]"
   ]
  },
  {
   "cell_type": "code",
   "execution_count": 3,
   "id": "265473ce",
   "metadata": {
    "execution": {
     "iopub.execute_input": "2022-02-17T01:02:02.872131Z",
     "iopub.status.busy": "2022-02-17T01:02:02.871527Z",
     "iopub.status.idle": "2022-02-17T01:02:06.025147Z",
     "shell.execute_reply": "2022-02-17T01:02:06.024741Z"
    },
    "tags": [
     "hide-input"
    ]
   },
   "outputs": [
    {
     "name": "stdout",
     "output_type": "stream",
     "text": [
      "6.949928675622712e-27\n"
     ]
    },
    {
     "data": {
      "application/papermill.record/text/plain": "6.949928675622712e-27"
     },
     "metadata": {
      "scrapbook": {
       "mime_prefix": "application/papermill.record/",
       "name": "kc_minus-er_pvalue"
      }
     },
     "output_type": "display_data"
    },
    {
     "name": "stdout",
     "output_type": "stream",
     "text": [
      "0.0026526463992977527\n"
     ]
    },
    {
     "data": {
      "application/papermill.record/text/plain": "0.0026526463992977527"
     },
     "metadata": {
      "scrapbook": {
       "mime_prefix": "application/papermill.record/",
       "name": "kc_minus-sbm_pvalue"
      }
     },
     "output_type": "display_data"
    },
    {
     "name": "stdout",
     "output_type": "stream",
     "text": [
      "0.43021496585932206\n"
     ]
    },
    {
     "data": {
      "application/papermill.record/text/plain": "0.43021496585932206"
     },
     "metadata": {
      "scrapbook": {
       "mime_prefix": "application/papermill.record/",
       "name": "kc_minus-asbm_pvalue"
      }
     },
     "output_type": "display_data"
    },
    {
     "data": {
      "application/papermill.record/text/plain": "'0.43'"
     },
     "metadata": {
      "scrapbook": {
       "mime_prefix": "application/papermill.record/",
       "name": "kc_minus-asbm_pvalue_formatted"
      }
     },
     "output_type": "display_data"
    }
   ],
   "source": [
    "\n",
    "from pkg.stats import compute_density_adjustment\n",
    "\n",
    "stat, pvalue, misc = erdos_renyi_test(sub_left_adj, sub_right_adj)\n",
    "print(pvalue)\n",
    "glue(\"er_pvalue\", pvalue)\n",
    "\n",
    "stat, pvalue, misc = stochastic_block_test(\n",
    "    sub_left_adj,\n",
    "    sub_right_adj,\n",
    "    labels1=sub_left_labels,\n",
    "    labels2=sub_right_labels,\n",
    "    method=\"fisher\",\n",
    "    combine_method=\"tippett\",\n",
    ")\n",
    "print(pvalue)\n",
    "glue(\"sbm_pvalue\", pvalue)\n",
    "\n",
    "# n_edges_left = np.count_nonzero(sub_left_adj)\n",
    "# n_edges_right = np.count_nonzero(sub_right_adj)\n",
    "# n_left = sub_left_adj.shape[0]\n",
    "# n_right = sub_right_adj.shape[0]\n",
    "# density_left = n_edges_left / (n_left ** 2)\n",
    "# density_right = n_edges_right / (n_right ** 2)\n",
    "\n",
    "null_ratio = compute_density_adjustment(sub_left_adj, sub_right_adj)\n",
    "\n",
    "stat, pvalue, misc = stochastic_block_test(\n",
    "    sub_left_adj,\n",
    "    sub_right_adj,\n",
    "    labels1=sub_left_labels,\n",
    "    labels2=sub_right_labels,\n",
    "    method=\"fisher\",\n",
    "    null_odds=null_ratio,\n",
    "    combine_method=\"tippett\",\n",
    ")\n",
    "print(pvalue)\n",
    "glue(\"asbm_pvalue\", pvalue)\n",
    "glue(\"asbm_pvalue_formatted\", f\"{pvalue:.2g}\")"
   ]
  }
 ],
 "metadata": {
  "jupytext": {
   "cell_metadata_filter": "-all",
   "main_language": "python",
   "notebook_metadata_filter": "-all"
  },
  "language_info": {
   "codemirror_mode": {
    "name": "ipython",
    "version": 3
   },
   "file_extension": ".py",
   "mimetype": "text/x-python",
   "name": "python",
   "nbconvert_exporter": "python",
   "pygments_lexer": "ipython3",
   "version": "3.9.7"
  }
 },
 "nbformat": 4,
 "nbformat_minor": 5
}
