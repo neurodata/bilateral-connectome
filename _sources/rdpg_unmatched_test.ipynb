{
 "cells": [
  {
   "cell_type": "markdown",
   "id": "e5b24cdb",
   "metadata": {},
   "source": [
    "# An embedding-based test"
   ]
  },
  {
   "cell_type": "code",
   "execution_count": null,
   "id": "d510b02a",
   "metadata": {
    "tags": [
     "hide-input"
    ]
   },
   "outputs": [],
   "source": [
    "\n",
    "from hyppo.tools.indep_sim import square\n",
    "from pkg.utils import set_warnings\n",
    "\n",
    "set_warnings()\n",
    "\n",
    "import datetime\n",
    "import time\n",
    "\n",
    "import matplotlib.pyplot as plt\n",
    "import numpy as np\n",
    "import pandas as pd\n",
    "import seaborn as sns\n",
    "from graspologic.embed import select_svd\n",
    "from graspologic.plot import pairplot\n",
    "from graspologic.utils import augment_diagonal\n",
    "from myst_nb import glue as default_glue\n",
    "from pkg.data import load_network_palette, load_node_palette, load_unmatched\n",
    "from pkg.io import savefig\n",
    "from pkg.plot import set_theme\n",
    "from pkg.stats import rdpg_test\n",
    "from pkg.utils import get_seeds\n",
    "\n",
    "DISPLAY_FIGS = True\n",
    "FILENAME = \"rdpg_unmatched_test\"\n",
    "\n",
    "rng = np.random.default_rng(8888)\n",
    "\n",
    "\n",
    "def gluefig(name, fig, **kwargs):\n",
    "    savefig(name, foldername=FILENAME, **kwargs)\n",
    "\n",
    "    glue(name, fig, prefix=\"fig\")\n",
    "\n",
    "    if not DISPLAY_FIGS:\n",
    "        plt.close()\n",
    "\n",
    "\n",
    "def glue(name, var, prefix=None):\n",
    "    savename = f\"{FILENAME}-{name}\"\n",
    "    if prefix is not None:\n",
    "        savename = prefix + \":\" + savename\n",
    "    default_glue(savename, var, display=False)\n",
    "\n",
    "\n",
    "t0 = time.time()\n",
    "set_theme(font_scale=1.25)\n",
    "\n",
    "network_palette, NETWORK_KEY = load_network_palette()\n",
    "node_palette, NODE_KEY = load_node_palette()\n",
    "\n",
    "left_adj, left_nodes = load_unmatched(\"left\")\n",
    "right_adj, right_nodes = load_unmatched(\"right\")\n",
    "\n",
    "left_nodes[\"inds\"] = range(len(left_nodes))\n",
    "right_nodes[\"inds\"] = range(len(right_nodes))\n",
    "\n",
    "seeds = get_seeds(left_nodes, right_nodes)"
   ]
  },
  {
   "cell_type": "markdown",
   "id": "998b162c",
   "metadata": {},
   "source": [
    "## A test based on latent positions"
   ]
  },
  {
   "cell_type": "markdown",
   "id": "2c281999",
   "metadata": {
    "lines_to_next_cell": 0
   },
   "source": [
    "### Look at the singular values"
   ]
  },
  {
   "cell_type": "code",
   "execution_count": null,
   "id": "4eb1dcb4",
   "metadata": {
    "tags": [
     "hide-input"
    ]
   },
   "outputs": [],
   "source": [
    "\n",
    "\n",
    "def screeplot(sing_vals, elbow_inds=None, color=None, ax=None, label=None):\n",
    "    if ax is None:\n",
    "        _, ax = plt.subplots(1, 1, figsize=(8, 4))\n",
    "    plt.plot(\n",
    "        range(1, len(sing_vals) + 1), sing_vals, color=color, label=label, linewidth=3\n",
    "    )\n",
    "    if elbow_inds is not None:\n",
    "        elbow_inds = np.array(elbow_inds)\n",
    "        plt.scatter(\n",
    "            elbow_inds,\n",
    "            sing_vals[elbow_inds - 1],\n",
    "            marker=\".\",\n",
    "            s=300,\n",
    "            zorder=10,\n",
    "            color=color,\n",
    "        )\n",
    "        ylim = ax.get_ylim()\n",
    "        for ind in elbow_inds:\n",
    "            ax.plot([ind, ind], [0, sing_vals[ind - 1]], color=\"grey\", linestyle=\":\")\n",
    "        ax.set_ylim(ylim)\n",
    "    ax.set(ylabel=\"Singular value\", xlabel=\"Index\")\n",
    "    return ax\n",
    "\n",
    "\n",
    "max_n_components = 25\n",
    "_, left_singular_values, _ = select_svd(\n",
    "    augment_diagonal(left_adj), n_elbows=6, n_components=max_n_components\n",
    ")\n",
    "_, right_singular_values, _ = select_svd(\n",
    "    augment_diagonal(right_adj), n_elbows=6, n_components=max_n_components\n",
    ")\n",
    "\n",
    "from graspologic.embed import select_dimension\n",
    "\n",
    "left_elbow_inds, left_elbow_pos = select_dimension(\n",
    "    augment_diagonal(left_adj), n_elbows=4\n",
    ")\n",
    "right_elbow_inds, right_elbow_pos = select_dimension(\n",
    "    augment_diagonal(right_adj), n_elbows=4\n",
    ")\n",
    "\n",
    "xticks = list(np.union1d(left_elbow_inds, right_elbow_inds))\n",
    "xticks += [15, 20, 25]\n",
    "fig, ax = plt.subplots(1, 1, figsize=(8, 6))\n",
    "screeplot(\n",
    "    right_singular_values,\n",
    "    color=network_palette[\"Right\"],\n",
    "    elbow_inds=right_elbow_inds,\n",
    "    ax=ax,\n",
    "    label=\"Right\",\n",
    ")\n",
    "screeplot(\n",
    "    left_singular_values,\n",
    "    color=network_palette[\"Left\"],\n",
    "    elbow_inds=left_elbow_inds,\n",
    "    ax=ax,\n",
    "    label=\"Left\",\n",
    ")\n",
    "ax.set(xticks=xticks)\n",
    "ax.legend()\n",
    "ax.yaxis.set_major_locator(plt.MaxNLocator(3))\n",
    "\n",
    "gluefig(\"screeplot\", fig)\n",
    "\n",
    "print(left_elbow_inds)\n",
    "print(right_elbow_inds)"
   ]
  },
  {
   "cell_type": "markdown",
   "id": "9ee36c67",
   "metadata": {
    "lines_to_next_cell": 2
   },
   "source": [
    "\n",
    "```{glue:figure} fig:rdpg_unmatched_test-screeplot\n",
    ":name: \"fig:rdpg_unmatched_test-screeplot\"\n",
    "\n",
    "Comparison of the singular values from the spectral decompositions of the left and\n",
    "right hemisphere adjacency matrices. Note that the right hemisphere singular values\n",
    "tend to be slightly higher than the corresponding singular value on the left\n",
    "hemisphere, which is consistent with an increased density on the right hemisphere as\n",
    "seen in [](er_unmatched_test.ipynb).\n",
    "```"
   ]
  },
  {
   "cell_type": "markdown",
   "id": "24e818d4",
   "metadata": {
    "lines_to_next_cell": 0
   },
   "source": [
    "### Run the test"
   ]
  },
  {
   "cell_type": "code",
   "execution_count": null,
   "id": "1c057090",
   "metadata": {
    "tags": [
     "hide-input"
    ]
   },
   "outputs": [],
   "source": [
    "n_components = 8  # TODO trouble is that this choice is somewhat arbitrary...\n",
    "stat, pvalue, misc = rdpg_test(\n",
    "    left_adj, right_adj, seeds=seeds, n_components=n_components\n",
    ")\n",
    "glue(\"pvalue\", pvalue)\n",
    "print(pvalue)"
   ]
  },
  {
   "cell_type": "code",
   "execution_count": null,
   "id": "74c4d808",
   "metadata": {
    "tags": [
     "hide-input"
    ]
   },
   "outputs": [],
   "source": [
    "_, norm_pvalue, _ = rdpg_test(\n",
    "    left_adj, right_adj, seeds=seeds, n_components=n_components, normalize_nodes=True\n",
    ")\n",
    "glue(\"norm_pvalue\", norm_pvalue)\n",
    "print(norm_pvalue)"
   ]
  },
  {
   "cell_type": "markdown",
   "id": "1e642cb2",
   "metadata": {
    "lines_to_next_cell": 0
   },
   "source": [
    "### Look at the embeddings"
   ]
  },
  {
   "cell_type": "code",
   "execution_count": null,
   "id": "9173354a",
   "metadata": {
    "tags": [
     "hide-input"
    ]
   },
   "outputs": [],
   "source": [
    "\n",
    "\n",
    "Z1 = misc[\"Z1\"]\n",
    "Z2 = misc[\"Z2\"]\n",
    "\n",
    "\n",
    "def plot_latents(\n",
    "    left,\n",
    "    right,\n",
    "    title=\"\",\n",
    "    n_show=4,\n",
    "    alpha=0.6,\n",
    "    linewidth=0.4,\n",
    "    s=10,\n",
    "    connections=False,\n",
    "    palette=None,\n",
    "):\n",
    "    if n_show > left.shape[1]:\n",
    "        n_show = left.shape[1]\n",
    "    plot_data = np.concatenate([left, right], axis=0)\n",
    "    labels = np.array([\"Left\"] * len(left) + [\"Right\"] * len(right))\n",
    "    pg = pairplot(\n",
    "        plot_data[:, :n_show],\n",
    "        labels=labels,\n",
    "        title=title,\n",
    "        size=s,\n",
    "        palette=palette,\n",
    "        legend_name='Hemisphere',\n",
    "    )\n",
    "\n",
    "    # pg._legend.remove()\n",
    "    return pg\n",
    "\n",
    "\n",
    "n_show = 4\n",
    "pg = plot_latents(Z1, Z2, palette=network_palette, n_show=n_show)\n",
    "fig = pg.figure\n",
    "eff_n_components = Z1.shape[1]\n",
    "glue(\"n_show\", n_show)\n",
    "glue(\"eff_n_components\", eff_n_components)\n",
    "gluefig(\"latents\", fig)\n",
    "\n",
    "n_show = 3\n",
    "pg = plot_latents(Z1, Z2, palette=network_palette, n_show=n_show, s=20)\n",
    "fig = pg.figure\n",
    "gluefig(f\"latents_d={n_show}\", fig)"
   ]
  },
  {
   "cell_type": "markdown",
   "id": "61cfbf96",
   "metadata": {},
   "source": [
    "\n",
    "```{glue:figure} fig:rdpg_unmatched_test-latents\n",
    ":name: \"fig:rdpg_unmatched_test-latents\"\n",
    "\n",
    "Comparison of the latent positions used for the test based on the random dot product\n",
    "graph. This plot shows only the first {glue:text}`rdpg_unmatched_test-n_show`\n",
    "dimensions, though the test was run in {glue:text}`rdpg_unmatched_test-eff_n_components`.\n",
    "The p-value for the test comparing the multivariate distribution of latent positions\n",
    "for the left vs. the right hemispheres (distance correlation 2-sample test) is\n",
    "{glue:text}`rdpg_unmatched_test-pvalue:.2f`, indicating that we fail to reject our\n",
    "null hypothesis of bilateral symmetry under this null model.\n",
    "```"
   ]
  },
  {
   "cell_type": "code",
   "execution_count": null,
   "id": "bed226f6",
   "metadata": {
    "tags": [
     "hide-input"
    ]
   },
   "outputs": [],
   "source": [
    "\n",
    "max_n_components = 16\n",
    "\n",
    "from tqdm import tqdm\n",
    "\n",
    "n_tests = max_n_components * (max_n_components - 1) / 2\n",
    "\n",
    "rows = []\n",
    "with tqdm(total=n_tests) as pbar:\n",
    "    for align_n_components in range(1, max_n_components + 1):\n",
    "        for test_n_components in range(1, align_n_components + 1):\n",
    "            stat, pvalue, _ = rdpg_test(\n",
    "                left_adj,\n",
    "                right_adj,\n",
    "                seeds=seeds,\n",
    "                n_components=test_n_components,\n",
    "                align_n_components=align_n_components,\n",
    "            )\n",
    "            rows.append(\n",
    "                {\n",
    "                    \"stat\": stat,\n",
    "                    \"pvalue\": pvalue,\n",
    "                    \"align_n_components\": align_n_components,\n",
    "                    \"test_n_components\": test_n_components,\n",
    "                }\n",
    "            )\n",
    "            pbar.update(1)\n",
    "\n",
    "results = pd.DataFrame(rows)"
   ]
  },
  {
   "cell_type": "code",
   "execution_count": null,
   "id": "bb28581e",
   "metadata": {
    "tags": [
     "hide-input"
    ]
   },
   "outputs": [],
   "source": [
    "\n",
    "from pathlib import Path\n",
    "import pickle\n",
    "\n",
    "out_path = Path(\"bilateral-connectome/results/outputs/rdpg_unmatched_test\")\n",
    "\n",
    "# save\n",
    "results.to_csv(out_path / \"ldt_results.csv\")\n",
    "\n",
    "with open(out_path / \"ldt_results.pickle\", \"wb\") as f:\n",
    "    pickle.dump(results, f)\n",
    "\n",
    "# reopen\n",
    "simple_results = pd.read_csv(out_path / \"ldt_results.csv\", index_col=0)\n",
    "\n",
    "with open(out_path / \"ldt_results.pickle\", \"rb\") as f:\n",
    "    results = pickle.load(f)"
   ]
  },
  {
   "cell_type": "code",
   "execution_count": null,
   "id": "7181d4d5",
   "metadata": {
    "tags": [
     "hide-input"
    ]
   },
   "outputs": [],
   "source": [
    "square_results = results.pivot(\n",
    "    index=\"test_n_components\", columns=\"align_n_components\", values=\"pvalue\"\n",
    ")\n",
    "\n",
    "fig, ax = plt.subplots(1, 1, figsize=(8, 8))\n",
    "plot_results = np.log10(square_results)\n",
    "\n",
    "annot = np.full((max_n_components, max_n_components), \"\")\n",
    "annot[square_results < 0.05] = \"X\"\n",
    "sns.heatmap(\n",
    "    plot_results,\n",
    "    ax=ax,\n",
    "    square=True,\n",
    "    cmap=\"RdBu\",\n",
    "    center=0,\n",
    "    cbar_kws=dict(shrink=0.6),\n",
    "    annot=annot,\n",
    "    fmt=\"s\",\n",
    ")\n",
    "ax.set_xlabel(\"# dimensions for alignment\", fontsize=\"large\")\n",
    "ax.set_ylabel(\"# dimensions for testing\", fontsize=\"large\")\n",
    "ax.set_xticks(np.array([1, 4, 8, 12, 16]) - 0.5)\n",
    "ax.set_xticklabels(np.array([1, 4, 8, 12, 16]), rotation=0)\n",
    "ax.set_yticks(np.array([1, 4, 8, 12, 16]) - 0.5)\n",
    "ax.set_yticklabels(np.array([1, 4, 8, 12, 16]), rotation=0)\n",
    "ax.set_title(r\"$log_{10}($p-value$)$\", fontsize=\"x-large\")\n",
    "\n",
    "cax = fig.axes[1]\n",
    "cax.get_ylim()\n",
    "cax.plot(\n",
    "    [0, 1], [np.log10(0.05), np.log10(0.05)], zorder=100, color=\"black\", linewidth=3\n",
    ")\n",
    "\n",
    "import matplotlib.transforms as mtransforms\n",
    "\n",
    "trans = mtransforms.blended_transform_factory(cax.transData, cax.transAxes)\n",
    "cax.annotate(\n",
    "    r\"$\\alpha$ = 0.05\",\n",
    "    (0.93, np.log10(0.05)),\n",
    "    xytext=(30, -10),\n",
    "    textcoords=\"offset points\",\n",
    "    va=\"center\",\n",
    "    arrowprops={\"arrowstyle\": \"-\", \"linewidth\": 2, \"relpos\": (0, 0.5)},\n",
    ")\n",
    "\n",
    "pos = (8, 8)\n",
    "\n",
    "\n",
    "def annotate_pos(pos, xytext):\n",
    "    val = square_results.loc[pos]\n",
    "    ax.annotate(\n",
    "        f\"{val:0.2g}\",\n",
    "        (pos[0] - 0.8, pos[0] - 0.2),\n",
    "        ha=\"right\",\n",
    "        textcoords=\"offset points\",\n",
    "        xytext=xytext,\n",
    "        arrowprops={\"arrowstyle\": \"-\", \"linewidth\": 2, \"relpos\": (1, 0.5)},\n",
    "    )\n",
    "\n",
    "\n",
    "annotate_pos((8, 8), (-25, -20))\n",
    "annotate_pos((9, 9), (-25, -35))\n",
    "\n",
    "\n",
    "gluefig(\"pvalue_dimension_matrix\", fig)"
   ]
  }
 ],
 "metadata": {
  "jupytext": {
   "cell_metadata_filter": "-all",
   "main_language": "python",
   "notebook_metadata_filter": "-all"
  }
 },
 "nbformat": 4,
 "nbformat_minor": 5
}
