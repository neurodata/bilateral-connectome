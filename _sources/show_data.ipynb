{
 "cells": [
  {
   "cell_type": "markdown",
   "id": "227be33c",
   "metadata": {},
   "source": [
    "# Visualize the connectome"
   ]
  },
  {
   "cell_type": "code",
   "execution_count": null,
   "id": "d29395b8",
   "metadata": {
    "lines_to_next_cell": 2,
    "tags": [
     "hide-input"
    ]
   },
   "outputs": [],
   "source": [
    "\n",
    "import datetime\n",
    "import time\n",
    "\n",
    "import matplotlib.pyplot as plt\n",
    "import numpy as np\n",
    "import seaborn as sns\n",
    "from giskard.plot import adjplot, scattermap\n",
    "from graspologic.embed import AdjacencySpectralEmbed\n",
    "from graspologic.plot import networkplot\n",
    "from matplotlib.patheffects import Normal, Stroke\n",
    "from pkg.data import (\n",
    "    load_maggot_graph,\n",
    "    load_network_palette,\n",
    "    load_unmatched,\n",
    ")\n",
    "from pkg.io import get_environment_variables\n",
    "from pkg.io import glue as default_glue\n",
    "from pkg.io import savefig\n",
    "from pkg.plot import set_theme\n",
    "from scipy.cluster import hierarchy\n",
    "from umap import UMAP\n",
    "\n",
    "_, _, DISPLAY_FIGS = get_environment_variables()\n",
    "\n",
    "FILENAME = \"show_data\"\n",
    "\n",
    "rng = np.random.default_rng(8888)\n",
    "\n",
    "\n",
    "def gluefig(name, fig, **kwargs):\n",
    "    savefig(name, foldername=FILENAME, **kwargs)\n",
    "\n",
    "    glue(name, fig, figure=True)\n",
    "\n",
    "    if not DISPLAY_FIGS:\n",
    "        plt.close()\n",
    "\n",
    "\n",
    "def glue(name, var, **kwargs):\n",
    "    default_glue(name, var, FILENAME, **kwargs)\n",
    "\n",
    "\n",
    "t0 = time.time()\n",
    "set_theme(font_scale=1.25)\n",
    "\n",
    "network_palette, NETWORK_KEY = load_network_palette()\n",
    "network_palette[\"L\"] = network_palette[\"Left\"]\n",
    "network_palette[\"R\"] = network_palette[\"Right\"]\n",
    "\n",
    "left_adj, left_nodes = load_unmatched(\"left\")\n",
    "right_adj, right_nodes = load_unmatched(\"right\")"
   ]
  },
  {
   "cell_type": "code",
   "execution_count": null,
   "id": "78f1b9bf",
   "metadata": {
    "tags": [
     "hide-input"
    ]
   },
   "outputs": [],
   "source": [
    "\n",
    "\n",
    "ase = AdjacencySpectralEmbed(n_components=24, check_lcc=False, concat=True)\n",
    "left_ase_embedding = ase.fit_transform(left_adj)\n",
    "right_ase_embedding = ase.fit_transform(right_adj)\n",
    "\n",
    "\n",
    "umapper = UMAP(\n",
    "    n_components=2,\n",
    "    n_neighbors=64,\n",
    "    min_dist=0.8,\n",
    "    metric=\"cosine\",\n",
    "    random_state=rng.integers(np.iinfo(np.int32).max),\n",
    ")\n",
    "left_umap_embedding = umapper.fit_transform(left_ase_embedding)\n",
    "right_umap_embedding = umapper.fit_transform(right_ase_embedding)"
   ]
  },
  {
   "cell_type": "code",
   "execution_count": null,
   "id": "6313095f",
   "metadata": {
    "tags": [
     "hide-input"
    ]
   },
   "outputs": [],
   "source": [
    "\n",
    "networkplot_kws = dict(\n",
    "    x=\"x\",\n",
    "    y=\"y\",\n",
    "    edge_linewidth=0.15,\n",
    "    edge_alpha=0.2,\n",
    "    node_hue=\"hemisphere\",\n",
    "    palette=network_palette,\n",
    "    edge_hue=\"source\",\n",
    "    node_size=\"degree\",\n",
    "    node_sizes=(15, 100),\n",
    ")\n",
    "\n",
    "\n",
    "def soft_axis_off(ax, top=False, bottom=False, left=False, right=False):\n",
    "    ax.spines[\"top\"].set_visible(top)\n",
    "    ax.spines[\"bottom\"].set_visible(bottom)\n",
    "    ax.spines[\"left\"].set_visible(left)\n",
    "    ax.spines[\"right\"].set_visible(right)\n",
    "\n",
    "\n",
    "fig, axs = plt.subplots(1, 2, figsize=(20, 10), gridspec_kw=dict(wspace=0))\n",
    "\n",
    "ax = axs[0]\n",
    "soft_axis_off(ax)\n",
    "\n",
    "left_nodes[\"degree\"] = left_adj.sum(axis=0) + left_adj.sum(axis=1)\n",
    "left_nodes[\"x\"] = left_umap_embedding[:, 0]\n",
    "left_nodes[\"y\"] = left_umap_embedding[:, 1]\n",
    "\n",
    "networkplot(left_adj, node_data=left_nodes.reset_index(), ax=ax, **networkplot_kws)\n",
    "\n",
    "ax.set_xlabel(\"Left\", color=network_palette[\"Left\"], fontsize=60)\n",
    "ax.set_ylabel(\"\")\n",
    "\n",
    "ax = axs[1]\n",
    "soft_axis_off(ax)\n",
    "\n",
    "right_nodes[\"x\"] = right_umap_embedding[:, 0]\n",
    "right_nodes[\"y\"] = right_umap_embedding[:, 1]\n",
    "right_nodes[\"degree\"] = right_adj.sum(axis=0) + right_adj.sum(axis=1)\n",
    "\n",
    "networkplot(right_adj, node_data=right_nodes.reset_index(), ax=ax, **networkplot_kws)\n",
    "\n",
    "ax.set_xlabel(\"Right\", color=network_palette[\"Right\"], fontsize=60)\n",
    "ax.set_ylabel(\"\")\n",
    "\n",
    "fig.set_facecolor(\"white\")\n",
    "\n",
    "gluefig(\"2_network_layout\", fig)"
   ]
  },
  {
   "cell_type": "code",
   "execution_count": null,
   "id": "ea875981",
   "metadata": {
    "tags": [
     "hide-input"
    ]
   },
   "outputs": [],
   "source": [
    "\n",
    "\n",
    "X = left_ase_embedding\n",
    "\n",
    "\n",
    "def specsort(X, metric=\"cosine\"):\n",
    "    Z = hierarchy.linkage(X, method=\"average\", metric=metric)\n",
    "    Z_ordered = hierarchy.optimal_leaf_ordering(Z, X, metric=metric)\n",
    "    sorted_indices = hierarchy.leaves_list(Z_ordered)\n",
    "    return sorted_indices"
   ]
  },
  {
   "cell_type": "code",
   "execution_count": null,
   "id": "2a0ab3fa",
   "metadata": {
    "tags": [
     "hide-input"
    ]
   },
   "outputs": [],
   "source": [
    "\n",
    "left_sort_inds = specsort(left_ase_embedding)\n",
    "right_sort_inds = specsort(right_ase_embedding)\n",
    "\n",
    "left_sorted_index = np.array(left_nodes.index[left_sort_inds])\n",
    "right_sorted_index = np.array(right_nodes.index[right_sort_inds])"
   ]
  },
  {
   "cell_type": "code",
   "execution_count": null,
   "id": "be168a94",
   "metadata": {
    "tags": [
     "hide-input"
    ]
   },
   "outputs": [],
   "source": [
    "\n",
    "sorted_index = np.concatenate((left_sorted_index, right_sorted_index))\n",
    "\n",
    "mg = load_maggot_graph()\n",
    "\n",
    "mg = mg.node_subgraph(sorted_index)\n",
    "\n",
    "nodes = mg.nodes\n",
    "adj = mg.sum.adj"
   ]
  },
  {
   "cell_type": "code",
   "execution_count": null,
   "id": "7257f955",
   "metadata": {
    "tags": [
     "hide-input"
    ]
   },
   "outputs": [],
   "source": [
    "\n",
    "fig, ax = plt.subplots(1, 1, figsize=(15, 15))\n",
    "adjplot(\n",
    "    adj,\n",
    "    meta=nodes,\n",
    "    sort_class=\"hemisphere\",\n",
    "    plot_type=\"scattermap\",\n",
    "    sizes=(0.5, 0.5),\n",
    "    ax=ax,\n",
    ")"
   ]
  },
  {
   "cell_type": "code",
   "execution_count": null,
   "id": "b1c773ed",
   "metadata": {
    "lines_to_next_cell": 2,
    "tags": [
     "hide-input"
    ]
   },
   "outputs": [],
   "source": [
    "\n",
    "left_inds = np.arange(len(left_adj))\n",
    "right_inds = np.arange(len(right_adj)) + len(left_adj)\n",
    "row_inds, col_inds = np.nonzero(adj)\n",
    "\n",
    "source_is_left = np.isin(row_inds, left_inds)\n",
    "target_is_left = np.isin(col_inds, left_inds)\n",
    "\n",
    "colors = np.full(len(row_inds), \"Contra\")\n",
    "colors[source_is_left & target_is_left] = \"Left\"\n",
    "colors[~source_is_left & ~target_is_left] = \"Right\""
   ]
  },
  {
   "cell_type": "code",
   "execution_count": null,
   "id": "efe5180a",
   "metadata": {
    "tags": [
     "hide-input"
    ]
   },
   "outputs": [],
   "source": [
    "\n",
    "fig, ax = plt.subplots(1, 1, figsize=(15, 15))\n",
    "\n",
    "\n",
    "network_palette[\"Contra\"] = sns.color_palette(\"Set2\")[2]\n",
    "scattermap(adj, hue=colors, palette=network_palette, ax=ax)\n",
    "ax.spines.top.set_visible(True)\n",
    "ax.spines.right.set_visible(True)\n",
    "fig.set_facecolor(\"w\")\n",
    "\n",
    "n_left = len(left_adj)\n",
    "div_kws = dict(color=\"grey\", linewidth=3, linestyle=\":\")\n",
    "ax.axvline(n_left - 0.5, **div_kws)\n",
    "ax.axhline(n_left - 0.5, **div_kws)\n",
    "\n",
    "ticks = [n_left / 2, n_left + len(right_adj) / 2]\n",
    "ax.set(xticks=ticks, yticks=ticks)\n",
    "ax.xaxis.tick_top()\n",
    "texts = ax.set_xticklabels([\"Left\", \"Right\"], fontsize=\"xx-large\")\n",
    "texts[0].set_color(network_palette[\"Left\"])\n",
    "texts[1].set_color(network_palette[\"Right\"])\n",
    "texts = ax.set_yticklabels([\"Left\", \"Right\"], fontsize=\"xx-large\")\n",
    "texts[0].set_color(network_palette[\"Left\"])\n",
    "texts[1].set_color(network_palette[\"Right\"])\n",
    "ax.tick_params(axis=\"both\", which=\"major\", pad=10)\n",
    "\n",
    "\n",
    "def nice_text(x, y, s, color=\"black\"):\n",
    "    text = ax.text(\n",
    "        x,\n",
    "        y,\n",
    "        s,\n",
    "        color=color,\n",
    "        fontsize=\"x-large\",\n",
    "        transform=ax.transData,\n",
    "        ha=\"center\",\n",
    "        va=\"center\",\n",
    "    )\n",
    "    text.set_path_effects([Stroke(linewidth=8, foreground=\"white\"), Normal()])\n",
    "\n",
    "\n",
    "nice_text(n_left / 2, n_left / 2, r\"L $\\rightarrow$ L\")\n",
    "nice_text(n_left / 2, n_left / 2 + n_left, r\"R $\\rightarrow$ L\")\n",
    "nice_text(n_left / 2 + n_left, n_left / 2, r\"L $\\rightarrow$ R\")\n",
    "nice_text(1.5 * n_left, 1.5 * n_left, r\"R $\\rightarrow$ R\")\n",
    "\n",
    "\n",
    "ax.spines[:].set_color(\"grey\")\n",
    "\n",
    "gluefig(\"adjacencies\", fig, formats=[\"png\"])"
   ]
  },
  {
   "cell_type": "code",
   "execution_count": null,
   "id": "efb3563d",
   "metadata": {
    "tags": [
     "hide-input"
    ]
   },
   "outputs": [],
   "source": [
    "\n",
    "\n",
    "fig, axs = plt.subplots(\n",
    "    1, 4, figsize=(30, 10), gridspec_kw=dict(wspace=0, width_ratios=[1, 0.3, 1, 1])\n",
    ")\n",
    "\n",
    "ax = axs[0]\n",
    "\n",
    "scattermap(adj, hue=colors, palette=network_palette, ax=ax, sizes=(1, 1))\n",
    "ax.spines.top.set_visible(True)\n",
    "ax.spines.right.set_visible(True)\n",
    "\n",
    "n_left = len(left_adj)\n",
    "div_kws = dict(color=\"grey\", linewidth=3, linestyle=\":\")\n",
    "ax.axvline(n_left - 0.5, **div_kws)\n",
    "ax.axhline(n_left - 0.5, **div_kws)\n",
    "\n",
    "ticks = [n_left / 2, n_left + len(right_adj) / 2]\n",
    "ax.set(xticks=ticks, yticks=ticks)\n",
    "ax.xaxis.tick_top()\n",
    "texts = ax.set_xticklabels([\"Left\", \"Right\"], fontsize=\"xx-large\")\n",
    "texts[0].set_color(network_palette[\"Left\"])\n",
    "texts[1].set_color(network_palette[\"Right\"])\n",
    "texts = ax.set_yticklabels([\"Left\", \"Right\"], fontsize=\"xx-large\")\n",
    "texts[0].set_color(network_palette[\"Left\"])\n",
    "texts[1].set_color(network_palette[\"Right\"])\n",
    "ax.tick_params(axis=\"both\", which=\"major\", pad=10)\n",
    "\n",
    "\n",
    "def nice_text(x, y, s, color=\"black\"):\n",
    "    text = ax.text(\n",
    "        x,\n",
    "        y,\n",
    "        s,\n",
    "        color=color,\n",
    "        fontsize=\"x-large\",\n",
    "        transform=ax.transData,\n",
    "        ha=\"center\",\n",
    "        va=\"center\",\n",
    "    )\n",
    "    text.set_path_effects([Stroke(linewidth=8, foreground=\"white\"), Normal()])\n",
    "\n",
    "\n",
    "nice_text(n_left / 2, n_left / 2, r\"L $\\rightarrow$ L\")\n",
    "nice_text(n_left / 2, n_left / 2 + n_left, r\"R $\\rightarrow$ L\")\n",
    "nice_text(n_left / 2 + n_left, n_left / 2, r\"L $\\rightarrow$ R\")\n",
    "nice_text(1.5 * n_left, 1.5 * n_left, r\"R $\\rightarrow$ R\")\n",
    "\n",
    "\n",
    "ax.spines[:].set_color(\"grey\")\n",
    "\n",
    "ax = axs[1]\n",
    "ax.axis(\"off\")\n",
    "\n",
    "ax = axs[2]\n",
    "soft_axis_off(ax)\n",
    "\n",
    "left_nodes[\"degree\"] = left_adj.sum(axis=0) + left_adj.sum(axis=1)\n",
    "left_nodes[\"x\"] = left_umap_embedding[:, 0]\n",
    "left_nodes[\"y\"] = left_umap_embedding[:, 1]\n",
    "\n",
    "\n",
    "networkplot_kws = dict(\n",
    "    x=\"x\",\n",
    "    y=\"y\",\n",
    "    edge_linewidth=0.15,\n",
    "    edge_alpha=0.15,\n",
    "    node_hue=\"hemisphere\",\n",
    "    palette=network_palette,\n",
    "    edge_hue=\"source\",\n",
    "    node_size=\"degree\",\n",
    "    node_sizes=(10, 100),\n",
    ")\n",
    "\n",
    "networkplot(left_adj, node_data=left_nodes.reset_index(), ax=ax, **networkplot_kws)\n",
    "\n",
    "ax.set_xlabel(\n",
    "    r\"Left $\\rightarrow$ left\", color=network_palette[\"Left\"], fontsize=\"xx-large\"\n",
    ")\n",
    "ax.set_ylabel(\"\")\n",
    "ax.axis(\"square\")\n",
    "\n",
    "ax = axs[3]\n",
    "soft_axis_off(ax)\n",
    "\n",
    "right_nodes[\"x\"] = right_umap_embedding[:, 0]\n",
    "right_nodes[\"y\"] = right_umap_embedding[:, 1]\n",
    "right_nodes[\"degree\"] = right_adj.sum(axis=0) + right_adj.sum(axis=1)\n",
    "\n",
    "networkplot(right_adj, node_data=right_nodes.reset_index(), ax=ax, **networkplot_kws)\n",
    "\n",
    "ax.set_xlabel(\n",
    "    r\"Right $\\rightarrow$ right\", color=network_palette[\"Right\"], fontsize=\"xx-large\"\n",
    ")\n",
    "ax.set_ylabel(\"\")\n",
    "ax.axis(\"square\")\n",
    "\n",
    "fig.set_facecolor(\"white\")\n",
    "\n",
    "fig.text(0.07, 0.97, \"A) Adjacency matrix\", fontweight=\"bold\", fontsize=40)\n",
    "fig.text(\n",
    "    0.4, 0.97, \"B) Diagrams for ipsilateral networks\", fontweight=\"bold\", fontsize=40\n",
    ")\n",
    "\n",
    "\n",
    "gluefig(\"adj_and_layout\", fig)"
   ]
  },
  {
   "cell_type": "code",
   "execution_count": null,
   "id": "0246f0b5",
   "metadata": {
    "tags": [
     "hide-input"
    ]
   },
   "outputs": [],
   "source": [
    "elapsed = time.time() - t0\n",
    "delta = datetime.timedelta(seconds=elapsed)\n",
    "print(f\"Script took {delta}\")\n",
    "print(f\"Completed at {datetime.datetime.now()}\")"
   ]
  }
 ],
 "metadata": {
  "jupytext": {
   "cell_metadata_filter": "-all",
   "main_language": "python",
   "notebook_metadata_filter": "-all"
  }
 },
 "nbformat": 4,
 "nbformat_minor": 5
}
