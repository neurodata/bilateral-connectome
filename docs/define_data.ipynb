{
 "cells": [
  {
   "cell_type": "markdown",
   "id": "94b95d2f",
   "metadata": {},
   "source": [
    "# Larval *Drosophila melanogaster* brain connectome\n",
    "\n",
    "Recently, authors mapped a connectome of a *Drosophila melanogaster* larva. This\n",
    "synaptic wiring diagram is comprised of 3,013 neurons and over 544,000\n",
    "synapses. Importantly, this work yielded a complete reconstruction of both the left\n",
    "and right hemispheres of the brain. We can represent this data as a network, with\n",
    "nodes representing neurons and\n",
    "edges representing some number of synapses between them.\n",
    "Since there are many modeling choices to make even when deciding how to take a raw\n",
    "connectome and generate a network representation from it, we describe some of these\n",
    "choices below."
   ]
  },
  {
   "cell_type": "markdown",
   "id": "dcc791b8",
   "metadata": {
    "lines_to_next_cell": 0
   },
   "source": [
    "## Unmatched data\n",
    "First we consider a left/right hemisphere dataset which does not require any\n",
    "neuron-to-neuron correspondence between the two hemispheres.\n",
    "\n",
    "We remove all neurons who do not have at least 3 inputs and at least 3 outputs in the\n",
    "brain network - these are mostly \"young\" neurons. We then take the largest connected\n",
    "component after this removal.\n",
    "\n",
    "Then, for the networks we are going to compare, we select only the left-to-left\n",
    "(ipsilateral) induced subgraph, and likewise for the right-to-right. Note that there\n",
    "are conceivable ways to define a notion of bilateral symmetry which does include the\n",
    "contralateral connections as well, but we do not consider that here.\n",
    "\n",
    "For the networks themselves, we chose to operate on networks which are:\n",
    "- **Unweighted**: we do not consider the number of synapses between two neurons in the\n",
    "  current analysis. For the current network of\n",
    "  interest, four edge types are available: axo-axonic, axo-dendritic,\n",
    "  dendro-dendritic, and dendro-axonic. We make no distinction between these four edges\n",
    "  types. For now, we consider there to be an edge if there is at least one\n",
    "  synapse between any two neurons (of any edge type).  One could consider notions of\n",
    "  bilateral symmetry\n",
    "  for a weighted network, and even for the unweighted case, one could consider varying\n",
    "  thresholds of the network based on varying edge weights (which have often been\n",
    "  employed in connectomics studies). For now, we focus on the unweighted case purely\n",
    "  for simplicity and the availability of more two-sample tests for unweighted\n",
    "  networks,\n",
    "  though the weighted case or choice of threshold are also of great interest.\n",
    "- **Directed**: we allow for a distinction between edges which go from neuron $i$ to\n",
    "  neuron $j$ as opposed to from $j$ to $i$.\n",
    "- **Loopless**: we remove any edges which go from neuron $i$ to neuron $i$."
   ]
  },
  {
   "cell_type": "code",
   "execution_count": 1,
   "id": "901e6d16",
   "metadata": {
    "execution": {
     "iopub.execute_input": "2022-09-26T16:22:47.485127Z",
     "iopub.status.busy": "2022-09-26T16:22:47.484904Z",
     "iopub.status.idle": "2022-09-26T16:22:52.852885Z",
     "shell.execute_reply": "2022-09-26T16:22:52.852112Z"
    },
    "tags": [
     "hide-input"
    ]
   },
   "outputs": [
    {
     "name": "stdout",
     "output_type": "stream",
     "text": [
      "Environment variables:\n",
      "   RESAVE_DATA: true\n",
      "   RERUN_SIMS: true\n",
      "   DISPLAY_FIGS: False\n",
      "\n",
      "Using data from 2022-09-25\n"
     ]
    }
   ],
   "source": [
    "from pkg.utils import set_warnings\n",
    "\n",
    "set_warnings()\n",
    "\n",
    "import datetime\n",
    "import os\n",
    "import time\n",
    "from pathlib import Path\n",
    "\n",
    "import networkx as nx\n",
    "import numpy as np\n",
    "import pandas as pd\n",
    "from graspologic.utils import remove_loops\n",
    "from pkg.io import glue as default_glue\n",
    "from pkg.io import get_environment_variables\n",
    "from pkg.data import DATA_VERSION, load_maggot_graph, select_nice_nodes\n",
    "\n",
    "t0 = time.time()\n",
    "\n",
    "FILENAME = \"define_data\"\n",
    "\n",
    "\n",
    "def glue(name, var, **kwargs):\n",
    "    default_glue(name, var, FILENAME, display=False, **kwargs)\n",
    "\n",
    "\n",
    "RESAVE_DATA, _, _ = get_environment_variables()\n",
    "\n",
    "print(f\"Using data from {DATA_VERSION}\")\n",
    "os.chdir(\"/Users/bpedigo/JHU_code/bilateral\")  # TODO fix, make this less fragile\n",
    "output_dir = os.path.join(os.getcwd(), \"bilateral-connectome/data/processed-v4\")\n",
    "output_dir = Path(output_dir)"
   ]
  },
  {
   "cell_type": "code",
   "execution_count": 2,
   "id": "4ca32bfe",
   "metadata": {
    "execution": {
     "iopub.execute_input": "2022-09-26T16:22:52.857417Z",
     "iopub.status.busy": "2022-09-26T16:22:52.857036Z",
     "iopub.status.idle": "2022-09-26T16:22:57.647567Z",
     "shell.execute_reply": "2022-09-26T16:22:57.646802Z"
    },
    "tags": [
     "hide-input"
    ]
   },
   "outputs": [
    {
     "name": "stdout",
     "output_type": "stream",
     "text": [
      "Before anything: 3586\n"
     ]
    },
    {
     "data": {
      "application/papermill.record/text/plain": "3022"
     },
     "metadata": {
      "scrapbook": {
       "mime_prefix": "application/papermill.record/",
       "name": "define_data-total_paper_neurons"
      }
     },
     "output_type": "display_data"
    },
    {
     "data": {
      "application/papermill.record/text/plain": "'3,022'"
     },
     "metadata": {
      "scrapbook": {
       "mime_prefix": "application/papermill.record/",
       "name": "define_data-total_paper_neurons-formatted"
      }
     },
     "output_type": "display_data"
    },
    {
     "name": "stdout",
     "output_type": "stream",
     "text": [
      "After filter by groups to consider for paper: 3022\n"
     ]
    }
   ],
   "source": [
    "mg = load_maggot_graph()\n",
    "\n",
    "print(f\"Before anything: {len(mg)}\")\n",
    "mg = mg[mg.nodes[\"paper_clustered_neurons\"] | mg.nodes[\"accessory_neurons\"]]\n",
    "total_paper_neurons = len(mg)\n",
    "glue(\"total_paper_neurons\", total_paper_neurons, form='long')\n",
    "print(f\"After filter by groups to consider for paper: {len(mg)}\")"
   ]
  },
  {
   "cell_type": "code",
   "execution_count": 3,
   "id": "0743888d",
   "metadata": {
    "execution": {
     "iopub.execute_input": "2022-09-26T16:22:57.650853Z",
     "iopub.status.busy": "2022-09-26T16:22:57.650601Z",
     "iopub.status.idle": "2022-09-26T16:23:13.218129Z",
     "shell.execute_reply": "2022-09-26T16:23:13.217276Z"
    },
    "lines_to_next_cell": 2,
    "tags": [
     "hide-input"
    ]
   },
   "outputs": [
    {
     "name": "stdout",
     "output_type": "stream",
     "text": [
      "After removing non left/right: 3020\n",
      "After largest connected component: 3008\n",
      "After taking largest connected component of each side 3007\n"
     ]
    }
   ],
   "source": [
    "mg = mg[mg.nodes[\"hemisphere\"].isin([\"L\", \"R\"])]\n",
    "print(f\"After removing non left/right: {len(mg)}\")\n",
    "mg.to_largest_connected_component(verbose=False)\n",
    "print(f\"After largest connected component: {len(mg)}\")\n",
    "\n",
    "mg.nodes.sort_values(\"hemisphere\", inplace=True)\n",
    "mg.nodes[\"_inds\"] = range(len(mg.nodes))\n",
    "\n",
    "left_mg, right_mg = mg.bisect(lcc=True)\n",
    "left_nodes = left_mg.nodes\n",
    "right_nodes = right_mg.nodes\n",
    "print(\n",
    "    f\"After taking largest connected component of each side {len(left_nodes) + len(right_nodes)}\"\n",
    ")\n",
    "\n",
    "left_adj = left_mg.sum.adj\n",
    "right_adj = right_mg.sum.adj"
   ]
  },
  {
   "cell_type": "code",
   "execution_count": 4,
   "id": "b668874c",
   "metadata": {
    "execution": {
     "iopub.execute_input": "2022-09-26T16:23:13.223500Z",
     "iopub.status.busy": "2022-09-26T16:23:13.222715Z",
     "iopub.status.idle": "2022-09-26T16:23:13.295086Z",
     "shell.execute_reply": "2022-09-26T16:23:13.294397Z"
    },
    "tags": [
     "hide-input"
    ]
   },
   "outputs": [
    {
     "data": {
      "application/papermill.record/text/plain": "0.17791819088792818"
     },
     "metadata": {
      "scrapbook": {
       "mime_prefix": "application/papermill.record/",
       "name": "define_data-p_loops"
      }
     },
     "output_type": "display_data"
    },
    {
     "data": {
      "application/papermill.record/text/plain": "'18'"
     },
     "metadata": {
      "scrapbook": {
       "mime_prefix": "application/papermill.record/",
       "name": "define_data-p_loops-formatted"
      }
     },
     "output_type": "display_data"
    },
    {
     "data": {
      "application/papermill.record/text/plain": "0.007042531625574263"
     },
     "metadata": {
      "scrapbook": {
       "mime_prefix": "application/papermill.record/",
       "name": "define_data-p_loops_edges"
      }
     },
     "output_type": "display_data"
    },
    {
     "data": {
      "application/papermill.record/text/plain": "'0.7'"
     },
     "metadata": {
      "scrapbook": {
       "mime_prefix": "application/papermill.record/",
       "name": "define_data-p_loops_edges-formatted"
      }
     },
     "output_type": "display_data"
    }
   ],
   "source": [
    "left_n_loops = np.count_nonzero(np.diag(left_adj))\n",
    "right_n_loops = np.count_nonzero(np.diag(right_adj))\n",
    "left_n_edges = np.count_nonzero(left_adj)\n",
    "right_n_edges = np.count_nonzero(right_adj)\n",
    "p_loops = (left_n_loops + right_n_loops) / (len(left_adj) + len(right_adj))\n",
    "p_loop_edges = (left_n_loops + right_n_loops) / (left_n_edges + right_n_edges)\n",
    "glue(\"p_loops\", p_loops, form=\"2.0f%\")\n",
    "glue(\"p_loops_edges\", p_loop_edges, form=\".1f%\")"
   ]
  },
  {
   "cell_type": "code",
   "execution_count": 5,
   "id": "415345f8",
   "metadata": {
    "execution": {
     "iopub.execute_input": "2022-09-26T16:23:13.298826Z",
     "iopub.status.busy": "2022-09-26T16:23:13.298547Z",
     "iopub.status.idle": "2022-09-26T16:23:13.398816Z",
     "shell.execute_reply": "2022-09-26T16:23:13.398262Z"
    },
    "lines_to_next_cell": 2,
    "tags": [
     "hide-input"
    ]
   },
   "outputs": [
    {
     "data": {
      "application/papermill.record/text/plain": "1504"
     },
     "metadata": {
      "scrapbook": {
       "mime_prefix": "application/papermill.record/",
       "name": "define_data-n_left_unmatched"
      }
     },
     "output_type": "display_data"
    },
    {
     "data": {
      "application/papermill.record/text/plain": "'1,504'"
     },
     "metadata": {
      "scrapbook": {
       "mime_prefix": "application/papermill.record/",
       "name": "define_data-n_left_unmatched-formatted"
      }
     },
     "output_type": "display_data"
    },
    {
     "data": {
      "application/papermill.record/text/plain": "1503"
     },
     "metadata": {
      "scrapbook": {
       "mime_prefix": "application/papermill.record/",
       "name": "define_data-n_right_unmatched"
      }
     },
     "output_type": "display_data"
    },
    {
     "data": {
      "application/papermill.record/text/plain": "'1,503'"
     },
     "metadata": {
      "scrapbook": {
       "mime_prefix": "application/papermill.record/",
       "name": "define_data-n_right_unmatched-formatted"
      }
     },
     "output_type": "display_data"
    }
   ],
   "source": [
    "left_adj = remove_loops(left_adj)\n",
    "right_adj = remove_loops(right_adj)\n",
    "\n",
    "n_left_unmatched = left_adj.shape[0]\n",
    "n_right_unmatched = right_adj.shape[0]\n",
    "glue(\"n_left_unmatched\", n_left_unmatched, form=\"long\")\n",
    "glue(\"n_right_unmatched\", n_right_unmatched, form=\"long\")"
   ]
  },
  {
   "cell_type": "markdown",
   "id": "c0cd8edd",
   "metadata": {},
   "source": [
    "After this data cleaning, we are left with {glue:text}`n_left_unmatched` neurons in\n",
    "the left\n",
    "hemisphere, and {glue:text}`n_right_unmatched` neurons in the right hemisphere."
   ]
  },
  {
   "cell_type": "code",
   "execution_count": 6,
   "id": "851f14ba",
   "metadata": {
    "execution": {
     "iopub.execute_input": "2022-09-26T16:23:13.401905Z",
     "iopub.status.busy": "2022-09-26T16:23:13.401709Z",
     "iopub.status.idle": "2022-09-26T16:23:14.028583Z",
     "shell.execute_reply": "2022-09-26T16:23:14.027918Z"
    },
    "lines_to_next_cell": 2,
    "tags": [
     "hide-input"
    ]
   },
   "outputs": [],
   "source": [
    "left_adj = pd.DataFrame(\n",
    "    data=left_adj.astype(int), index=left_nodes.index, columns=left_nodes.index\n",
    ")\n",
    "left_g = nx.from_pandas_adjacency(left_adj, create_using=nx.DiGraph)\n",
    "\n",
    "if RESAVE_DATA:\n",
    "    nx.write_edgelist(\n",
    "        left_g,\n",
    "        output_dir / \"unmatched_left_edgelist.csv\",\n",
    "        delimiter=\",\",\n",
    "        data=[\"weight\"],\n",
    "    )\n",
    "    left_nodes.to_csv(output_dir / \"unmatched_left_nodes.csv\")\n",
    "\n",
    "\n",
    "right_adj = pd.DataFrame(\n",
    "    data=right_adj.astype(int), index=right_nodes.index, columns=right_nodes.index\n",
    ")\n",
    "right_g = nx.from_pandas_adjacency(right_adj, create_using=nx.DiGraph)\n",
    "\n",
    "if RESAVE_DATA:\n",
    "    nx.write_edgelist(\n",
    "        right_g,\n",
    "        output_dir / \"unmatched_right_edgelist.csv\",\n",
    "        delimiter=\",\",\n",
    "        data=[\"weight\"],\n",
    "    )\n",
    "    right_nodes.to_csv(output_dir / \"unmatched_right_nodes.csv\")"
   ]
  },
  {
   "cell_type": "markdown",
   "id": "9c630ea6",
   "metadata": {
    "lines_to_next_cell": 0
   },
   "source": [
    "## Matched data\n",
    "Next, we consider a left/right hemisphere dataset where we require each neuron in the\n",
    "left hemisphere to be matched with a neuron in the right hemisphere. These pairings\n",
    "were determined by matching both connectivity and morphology in previous publications.\n",
    "\n",
    "Not all neurons in the original dataset were matched, so there will be slightly fewer\n",
    "neurons in this version of the data. Since we have this matched requirement, both\n",
    "networks will necessarily be of the same size.\n",
    "\n",
    "All other aspects of the networks (unweighted, directed, no loops) are the same as\n",
    "described above for the unmatched networks."
   ]
  },
  {
   "cell_type": "code",
   "execution_count": 7,
   "id": "8d8a087b",
   "metadata": {
    "execution": {
     "iopub.execute_input": "2022-09-26T16:23:14.031244Z",
     "iopub.status.busy": "2022-09-26T16:23:14.031070Z",
     "iopub.status.idle": "2022-09-26T16:23:47.869390Z",
     "shell.execute_reply": "2022-09-26T16:23:47.868716Z"
    },
    "tags": [
     "hide-input"
    ]
   },
   "outputs": [
    {
     "data": {
      "application/papermill.record/text/plain": "1380"
     },
     "metadata": {
      "scrapbook": {
       "mime_prefix": "application/papermill.record/",
       "name": "define_data-n_left_matched"
      }
     },
     "output_type": "display_data"
    },
    {
     "data": {
      "application/papermill.record/text/plain": "1380"
     },
     "metadata": {
      "scrapbook": {
       "mime_prefix": "application/papermill.record/",
       "name": "define_data-n_right_matched"
      }
     },
     "output_type": "display_data"
    }
   ],
   "source": [
    "mg = load_maggot_graph()\n",
    "mg = select_nice_nodes(mg)\n",
    "left_mg, right_mg = mg.bisect(lcc=True, paired=True)\n",
    "left_nodes = left_mg.nodes\n",
    "right_nodes = right_mg.nodes\n",
    "\n",
    "left_adj = left_mg.sum.adj\n",
    "right_adj = right_mg.sum.adj\n",
    "\n",
    "\n",
    "left_adj = remove_loops(left_adj)\n",
    "right_adj = remove_loops(right_adj)\n",
    "\n",
    "n_left_matched = left_adj.shape[0]\n",
    "n_right_matched = right_adj.shape[0]\n",
    "\n",
    "glue(\"n_left_matched\", n_left_matched)\n",
    "glue(\"n_right_matched\", n_right_matched)"
   ]
  },
  {
   "cell_type": "markdown",
   "id": "784f8874",
   "metadata": {},
   "source": [
    "For the matched networks, we are left with {glue:text}`n_left_matched` neurons in the\n",
    "left\n",
    "hemisphere, and {glue:text}`n_right_matched` neurons in the right hemisphere."
   ]
  },
  {
   "cell_type": "code",
   "execution_count": 8,
   "id": "ccb843d2",
   "metadata": {
    "execution": {
     "iopub.execute_input": "2022-09-26T16:23:47.872776Z",
     "iopub.status.busy": "2022-09-26T16:23:47.872533Z",
     "iopub.status.idle": "2022-09-26T16:23:48.648951Z",
     "shell.execute_reply": "2022-09-26T16:23:48.648041Z"
    },
    "tags": [
     "hide-input"
    ]
   },
   "outputs": [],
   "source": [
    "left_adj = pd.DataFrame(\n",
    "    data=left_adj.astype(int), index=left_nodes.index, columns=left_nodes.index\n",
    ")\n",
    "left_g = nx.from_pandas_adjacency(left_adj, create_using=nx.DiGraph)\n",
    "if RESAVE_DATA:\n",
    "    nx.write_edgelist(\n",
    "        left_g,\n",
    "        output_dir / \"matched_left_edgelist.csv\",\n",
    "        delimiter=\",\",\n",
    "        data=[\"weight\"],\n",
    "    )\n",
    "\n",
    "    left_nodes.to_csv(output_dir / \"matched_left_nodes.csv\")\n",
    "\n",
    "\n",
    "right_adj = pd.DataFrame(\n",
    "    data=right_adj.astype(int), index=right_nodes.index, columns=right_nodes.index\n",
    ")\n",
    "right_g = nx.from_pandas_adjacency(right_adj, create_using=nx.DiGraph)\n",
    "\n",
    "if RESAVE_DATA:\n",
    "    nx.write_edgelist(\n",
    "        right_g,\n",
    "        output_dir / \"matched_right_edgelist.csv\",\n",
    "        delimiter=\",\",\n",
    "        data=[\"weight\"],\n",
    "    )\n",
    "    right_nodes.to_csv(output_dir / \"matched_right_nodes.csv\")"
   ]
  },
  {
   "cell_type": "code",
   "execution_count": 9,
   "id": "f119fc47",
   "metadata": {
    "execution": {
     "iopub.execute_input": "2022-09-26T16:23:48.652350Z",
     "iopub.status.busy": "2022-09-26T16:23:48.652101Z",
     "iopub.status.idle": "2022-09-26T16:23:48.686903Z",
     "shell.execute_reply": "2022-09-26T16:23:48.686344Z"
    },
    "tags": [
     "hide-input"
    ]
   },
   "outputs": [
    {
     "name": "stdout",
     "output_type": "stream",
     "text": [
      "Script took 0:00:55.863856\n",
      "Completed at 2022-09-26 09:23:48.684302\n"
     ]
    }
   ],
   "source": [
    "elapsed = time.time() - t0\n",
    "delta = datetime.timedelta(seconds=elapsed)\n",
    "print(f\"Script took {delta}\")\n",
    "print(f\"Completed at {datetime.datetime.now()}\")"
   ]
  }
 ],
 "metadata": {
  "jupytext": {
   "cell_metadata_filter": "-all",
   "main_language": "python",
   "notebook_metadata_filter": "-all"
  },
  "language_info": {
   "codemirror_mode": {
    "name": "ipython",
    "version": 3
   },
   "file_extension": ".py",
   "mimetype": "text/x-python",
   "name": "python",
   "nbconvert_exporter": "python",
   "pygments_lexer": "ipython3",
   "version": "3.9.7"
  }
 },
 "nbformat": 4,
 "nbformat_minor": 5
}
