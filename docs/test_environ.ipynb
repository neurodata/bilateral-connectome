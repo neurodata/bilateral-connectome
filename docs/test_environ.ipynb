{
 "cells": [
  {
   "cell_type": "markdown",
   "id": "6d162fee",
   "metadata": {
    "lines_to_next_cell": 0
   },
   "source": [
    "# this is a test"
   ]
  },
  {
   "cell_type": "code",
   "execution_count": 1,
   "id": "1a4cbc80",
   "metadata": {
    "execution": {
     "iopub.execute_input": "2022-09-16T20:33:27.660465Z",
     "iopub.status.busy": "2022-09-16T20:33:27.660198Z",
     "iopub.status.idle": "2022-09-16T20:33:28.265130Z",
     "shell.execute_reply": "2022-09-16T20:33:28.264597Z"
    },
    "tags": [
     "hide-input"
    ]
   },
   "outputs": [
    {
     "name": "stdout",
     "output_type": "stream",
     "text": [
      "False\n",
      "True\n"
     ]
    }
   ],
   "source": [
    "from pkg.io import get_environment_variables\n",
    "\n",
    "_, RERUN_SIMS, DISPLAY_FIGS = get_environment_variables()\n",
    "\n",
    "print(RERUN_SIMS)\n",
    "print(DISPLAY_FIGS)"
   ]
  }
 ],
 "metadata": {
  "jupytext": {
   "cell_metadata_filter": "-all",
   "main_language": "python",
   "notebook_metadata_filter": "-all"
  },
  "kernelspec": {
   "display_name": "Python 3.9.7 64-bit ('.venv': poetry)",
   "language": "python",
   "name": "python3"
  },
  "language_info": {
   "codemirror_mode": {
    "name": "ipython",
    "version": 3
   },
   "file_extension": ".py",
   "mimetype": "text/x-python",
   "name": "python",
   "nbconvert_exporter": "python",
   "pygments_lexer": "ipython3",
   "version": "3.9.7"
  },
  "vscode": {
   "interpreter": {
    "hash": "a0a374cb99050f7ac2eb0bfa71beaec0ac283099f4cfc737318c704bb31cc92a"
   }
  }
 },
 "nbformat": 4,
 "nbformat_minor": 5
}
